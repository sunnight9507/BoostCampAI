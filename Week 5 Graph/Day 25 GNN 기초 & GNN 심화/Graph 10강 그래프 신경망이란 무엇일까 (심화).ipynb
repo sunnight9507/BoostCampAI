{
 "cells": [
  {
   "cell_type": "markdown",
   "id": "breathing-reason",
   "metadata": {},
   "source": [
    "## 2. 그래프 신경망에서의 어텐션\n",
    "\n",
    "### 2.1 기본 그래프 신경망의 한계\n",
    "\n",
    "> - 기본 그래프 신경망에서는 **이웃들의 정보를 동일한 가중치로 평균**을 낸다.\n",
    "> - 그래프 합성곱 신경망에서 역시 **단순히 연결성을 고려한 가중치로 평균**을 낸다.\n",
    "\n",
    "\n",
    "### 2.2 그래프 어텐션 신경망\n",
    "\n",
    "> - **그래프 어텐션 신경망(Graph Attention Network, GAT)**에서는 **가중치 자체도 학습**한다.\n",
    "> - 실제 그래프에서는 이웃 별로 미치는 영향이 다를 수 있기 때문이다.\n",
    "> - **가중치를 학습하기 위해서 셀프-어텐션(Self-Attention)**이 사용된다.\n",
    "\n",
    "> - 각 층에서 **정점 $i$로부터 이웃 $j$로의 가중치 $a_{ij}$**는 세 단계를 통해 계산한다.\n",
    "> - 1) 해당 층의 정점 $i$의 임베딩 $h_i$에 신경망 $W$를 곱해 **새로운 임베딩**을 얻는다.\n",
    "    - $\\tilde{h}_i = h_i W$\n",
    "> - 2) 2) 정점 $i$와 정점 $j$의 새로운 임베딩을 연결한 후, **어텐션 계수 $\\alpha$**를 내적한다.\n",
    "> - 어텐션 계수 $\\alpha$는 모든 정점이 공유하는 학습 변수이다.\n",
    "    - $e_{ij} = a^\\top [\\mathrm{CONCAT(\\tilde{h}_i, \\tilde{h}_j)}]$\n",
    "> - 3) 2)의 결과에 소프트맥스(Softmax)를 적용한다.\n",
    "     - $a_{ij} = \\mathrm{softmax}_j (e_{ij}) = \\frac{\\exp{e_{ij}}}{\\sum_{k \\in N_i} \\exp{e_{ik}}}$"
   ]
  },
  {
   "cell_type": "code",
   "execution_count": null,
   "id": "placed-inventory",
   "metadata": {},
   "outputs": [],
   "source": []
  }
 ],
 "metadata": {
  "kernelspec": {
   "display_name": "Python 3",
   "language": "python",
   "name": "python3"
  },
  "language_info": {
   "codemirror_mode": {
    "name": "ipython",
    "version": 3
   },
   "file_extension": ".py",
   "mimetype": "text/x-python",
   "name": "python",
   "nbconvert_exporter": "python",
   "pygments_lexer": "ipython3",
   "version": "3.8.5"
  }
 },
 "nbformat": 4,
 "nbformat_minor": 5
}
