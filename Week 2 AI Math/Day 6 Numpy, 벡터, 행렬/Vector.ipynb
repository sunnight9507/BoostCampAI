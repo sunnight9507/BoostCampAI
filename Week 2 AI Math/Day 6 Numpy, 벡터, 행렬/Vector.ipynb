{
 "cells": [
  {
   "cell_type": "markdown",
   "id": "proper-adoption",
   "metadata": {},
   "source": [
    "## Vector\n",
    "\n",
    "> - 벡터는 숫자를 원소로 가지는 **리스트(list)** 또는 **배열(array)**\n",
    "> - 벡터는 공간에서 **한 점**을 나타낸다.\n",
    "> - 벡터는 원점으로부터 상대적 **위치**를 표현한다.\n",
    "> - 두 벡터의 덧셈은 다른 벡터로부터 **상대적 위치이동**을 표현한다.\n",
    "> - **제 2코사인 법칙**에 의해 두 벡터 사이의 각도를 계산할 수 있다.\n",
    "    - $$ cos \\theta = \\frac{\\sum_{i=1}^{d} x_i y_i}{\\Vert x \\Vert \\Vert y \\Vert} $$\n",
    "    - ```Python\n",
    "    def angle(x, y):\n",
    "        # np.inner : 두 벡터의 내적\n",
    "        v = np.inner(x, y) / (l2_norm(x) * l2_norm(y))\n",
    "        theta = np.arccos(v)\n",
    "        return theta\n",
    "    ```\n",
    "\n",
    "#### Norm\n",
    "\n",
    "> - **원점에서부터의 거리**\n",
    "> - $L_1$은 각 성분의 **변화량의 절대값**을 모두 더한다.\n",
    "> - $L_2$은 피타고라스 정리를 이용해 **유클리드 거리**를 계산한다.\n",
    "> - Norm 종류에 따라 **기하학적 성질**이 달라진다.\n",
    "> - 머신러닝에서는 각 성질들이 필요할 때가 있으므로 둘 다 사용한다.\n",
    "\n",
    "#### 내적\n",
    "\n",
    "> - **정사영(orthogonal projection)된 벡터의 길이**와 관련 있다.\n",
    "> - $\\mathsf{proj}(x)$의 길이는 **코사인 법칙**에 의해 $\\Vert x \\Vert \\mathbf{cos} \\theta$가 된다.\n",
    "> - 내적은 정사영의 길이를 **벡터 $y$의 길이 $\\Vert y \\Vert$만큼 조정**한 값이다."
   ]
  }
 ],
 "metadata": {
  "kernelspec": {
   "display_name": "Python 3",
   "language": "python",
   "name": "python3"
  },
  "language_info": {
   "codemirror_mode": {
    "name": "ipython",
    "version": 3
   },
   "file_extension": ".py",
   "mimetype": "text/x-python",
   "name": "python",
   "nbconvert_exporter": "python",
   "pygments_lexer": "ipython3",
   "version": "3.8.5"
  }
 },
 "nbformat": 4,
 "nbformat_minor": 5
}
