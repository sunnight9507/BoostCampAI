{
 "cells": [
  {
   "cell_type": "markdown",
   "id": "collect-array",
   "metadata": {},
   "source": [
    "### 1. BERT 언어모델\n",
    "\n",
    "#### 1.1 BERT 모델 소개\n",
    "\n",
    "> - 데이터의 tokenizing\n",
    "    - WordPiece tokenizing\n",
    "    \n",
    "> - NLP 실험\n",
    "    - 단일 문장 분류\n",
    "    - 두 문장 관계 분류\n",
    "    - 문장 토큰 분류\n",
    "    - 기계 독해 정답 분류\n",
    "\n",
    "#### 1.2 BERT의 응용\n",
    "\n",
    "> - 감성 분석 : 입력된 문장이 긍정인지 부정인지\n",
    "> - 관계 추출 : 문장 내의 지식 정보 추출\n",
    "> - 의미 비교 : 두 문장이 의미적으로 같은지 확인\n",
    "> - 개체명 분석\n",
    "> - 기계 독해\n",
    "\n",
    "#### 1.3 한국어 BERT 모델\n",
    "\n",
    "> - ETRI KoBERT\n",
    "> - Advanced BERT model"
   ]
  },
  {
   "cell_type": "markdown",
   "id": "loose-dating",
   "metadata": {},
   "source": [
    "### 새로 알게된 것들"
   ]
  },
  {
   "cell_type": "code",
   "execution_count": 24,
   "id": "nuclear-statement",
   "metadata": {},
   "outputs": [
    {
     "data": {
      "text/plain": [
       "'99988'"
      ]
     },
     "execution_count": 24,
     "metadata": {},
     "output_type": "execute_result"
    }
   ],
   "source": [
    "# dictionary를 사용하지 않는 방법\n",
    "\"구구구팔팔\".translate(str.maketrans('공일이삼사오육칠팔구','0123456789'))"
   ]
  },
  {
   "cell_type": "code",
   "execution_count": 25,
   "id": "cleared-shaft",
   "metadata": {},
   "outputs": [
    {
     "data": {
      "text/plain": [
       "'123,456'"
      ]
     },
     "execution_count": 25,
     "metadata": {},
     "output_type": "execute_result"
    }
   ],
   "source": [
    "# 자동으로 쉼표 찍어주기\n",
    "format(123456, ',')"
   ]
  },
  {
   "cell_type": "code",
   "execution_count": 26,
   "id": "green-hayes",
   "metadata": {},
   "outputs": [
    {
     "data": {
      "text/plain": [
       "'T1005 권태양'"
      ]
     },
     "execution_count": 26,
     "metadata": {},
     "output_type": "execute_result"
    }
   ],
   "source": [
    "# 정규표현식 group 위치 바꾸기\n",
    "import re\n",
    "\n",
    "comp = re.compile(r\"([가-힣]+) ([T0-9]+)\")\n",
    "name_num = \"권태양 T1005\"\n",
    "num_name = comp.sub(\"\\g<2> \\g<1>\", name_num)\n",
    "num_name"
   ]
  },
  {
   "cell_type": "code",
   "execution_count": 23,
   "id": "optimum-azerbaijan",
   "metadata": {},
   "outputs": [
    {
     "data": {
      "text/plain": [
       "'s**********@naver.com'"
      ]
     },
     "execution_count": 23,
     "metadata": {},
     "output_type": "execute_result"
    }
   ],
   "source": [
    "# group 된 값 변경\n",
    "comp3 = re.compile(r\"([a-zA-Z0-9+-_.])([a-zA-Z0-9+-_.]+)(@[a-zA-Z0-9-]+\\.[a-zA-Z0-9-.]+)\")\n",
    "email = 'sunnight9507@naver.com'\n",
    "group2 = comp3.sub('\\g<2>', email)\n",
    "masked = comp3.sub('\\g<1>'+'*'*(len(group2)-1)+'\\g<3>', email)\n",
    "masked"
   ]
  },
  {
   "cell_type": "markdown",
   "id": "organized-robinson",
   "metadata": {},
   "source": [
    "### 시도해 볼만한 것들\n",
    "\n",
    "> - [Preprocessing data](https://huggingface.co/transformers/preprocessing.html)\n",
    "> - padding / max_length 변경\n",
    "\n",
    "> - [Entity] token 추가\n",
    "    - 주의할 점 : 학습된 모델에도 token 추가\n",
    "    \n",
    "> - 데이터 번역 후 모델링"
   ]
  }
 ],
 "metadata": {
  "kernelspec": {
   "display_name": "Python 3",
   "language": "python",
   "name": "python3"
  },
  "language_info": {
   "codemirror_mode": {
    "name": "ipython",
    "version": 3
   },
   "file_extension": ".py",
   "mimetype": "text/x-python",
   "name": "python",
   "nbconvert_exporter": "python",
   "pygments_lexer": "ipython3",
   "version": "3.8.5"
  }
 },
 "nbformat": 4,
 "nbformat_minor": 5
}
