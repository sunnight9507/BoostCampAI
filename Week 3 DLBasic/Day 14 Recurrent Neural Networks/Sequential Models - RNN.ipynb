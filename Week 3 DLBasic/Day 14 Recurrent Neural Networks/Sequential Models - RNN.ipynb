{
 "cells": [
  {
   "cell_type": "markdown",
   "id": "virtual-technology",
   "metadata": {},
   "source": [
    "#### Sequential Model\n",
    "\n",
    "> #### Autoregressive model\n",
    "> - Fix the past timespan\n",
    "> - $p(x_t|x_{t-1},\\dots,x_{t-\\tau})$\n",
    "    \n",
    "> #### Markov model(first-order autoregressive model)\n",
    "> - 현재 시점의 값은 바로 전 시점의 값 하나로 설명\n",
    "> - $\\prod_{t=1}^T p(x_t|x_{t-1})$\n",
    "> - Easy to express the joint distribution\n",
    "    \n",
    "> #### Latent autoregressive model\n",
    "> - 중간에 hidden state를 통해 과거의 정보를 summarize한다.\n",
    "> - $\\hat{x} = p(x_t|h_t)$\n",
    "> - $h_t = g(h_{t-1}, x_{t-1})$\n",
    "\n",
    "#### Recurrent Neural Network\n",
    "\n",
    "> - Long-term dependencies에는 잘 작동하지 않는 문제\n",
    "    - sigmoid : vanishing gradient\n",
    "    - relu : exploding gradient\n",
    "    \n",
    "#### Long Short Term Memory\n",
    "\n",
    "> - cell state\n",
    "    - time stamp t까지 들어온 정보를 요약\n",
    "> - Forget gate\n",
    "    - Decide which information to **throw** away\n",
    "    - $f_t = \\sigma(W_f \\cdot [h_{t-1}, x_t] + b_f)$\n",
    "> - Input gate\n",
    "    - Decide which information to **store** in the cell state\n",
    "    - $i_t = \\sigma(W_i \\cdot [h_{t-1}, x_t] + b_i)$\n",
    "    - $\\overset{\\sim}{C_t} = \\tanh(W_C \\cdot [h_{t-1}, x_t] + b_C)$\n",
    "> - Update cell\n",
    "    - Update the cell state\n",
    "    - $i_t = \\sigma(W_i \\cdot [h_{t-1}, x_t] + b_i)$\n",
    "    - $C_t = f_t*C_{t-1} + i_t * \\overset{\\sim}{C_t}$\n",
    "> - Output Gate\n",
    "    - Make output using the updated cell state\n",
    "    - $o_t = \\sigma(W_o \\cdot [h_{t-1}, x_t] + b_o)$\n",
    "    - $h_t = o_t * \\tanh(C_t)$\n",
    "    \n",
    "#### Gated Recurrent Unit\n",
    "\n",
    "> - Simpler architecture with two gates(**reset gate** and **update gate**)\n",
    "> - No **cell state**, just **hidden state**"
   ]
  }
 ],
 "metadata": {
  "kernelspec": {
   "display_name": "Python 3",
   "language": "python",
   "name": "python3"
  },
  "language_info": {
   "codemirror_mode": {
    "name": "ipython",
    "version": 3
   },
   "file_extension": ".py",
   "mimetype": "text/x-python",
   "name": "python",
   "nbconvert_exporter": "python",
   "pygments_lexer": "ipython3",
   "version": "3.8.5"
  }
 },
 "nbformat": 4,
 "nbformat_minor": 5
}
