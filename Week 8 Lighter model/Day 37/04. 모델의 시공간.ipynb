{
 "cells": [
  {
   "cell_type": "markdown",
   "id": "hearing-location",
   "metadata": {},
   "source": [
    "### 1.1 Space and time\n",
    "\n",
    "> - Time-Space Trade-Off in Algorithms\n",
    "> - high entropy (feature) -> low entropy (past)\n",
    "\n",
    "### 1.2 Parameter search\n",
    "\n",
    "> - Parameter search, Hyperparameter search, Architecture search\n",
    "> - Search space\n",
    "\n",
    "### 1.3 Hyperparameter search\n",
    "\n",
    "> - 고려해야 되는 것\n",
    "    - Computational costs\n",
    "    - expressibility\n",
    "    - complexity\n",
    "    \n",
    "> - Manual search\n",
    "    - 가장 직관적\n",
    "    - 운빨\n",
    "    - complexity에 취약\n",
    "    - Prior knowledge\n",
    "> - Grid search\n",
    "    - 균등하고 전역적인 탐색\n",
    "    - hyperparameter가 다양할수록 탐색 시간이 기하급수적으로 증가\n",
    "    - 불필요한 반복 수행\n",
    "    - No prior knowledge\n",
    "> - Random search\n",
    "    - 탐색 대상 구간 내의 후보 hyperparameter 값들을 랜덤 샘플링을 통해 선정\n",
    "    - 불필요한 반복 적지만 여전히 있음\n",
    "    - Grid 사이 값들에 대해서도 탐색 가능\n",
    "    - No prior knowledge\n",
    "> - Surrogate model\n",
    "    - Gaussian Process\n",
    "    \n",
    "### 1.4 Neural Architecture search\n",
    "\n",
    "> - Search starategy\n",
    "\n",
    "### 1.5 NAS for edge devices\n",
    "\n",
    "> - MnasNet: Platform-Aware Neural Architecture Search for Mobile\n",
    "> - PROXYLESSNAS: Direct Neural Architecture Search On Target Tast And Hardware\n",
    "> - ONCE-For-ALL: Train One Network And Specialize It For Efficient Deployment"
   ]
  }
 ],
 "metadata": {
  "kernelspec": {
   "display_name": "Python 3",
   "language": "python",
   "name": "python3"
  },
  "language_info": {
   "codemirror_mode": {
    "name": "ipython",
    "version": 3
   },
   "file_extension": ".py",
   "mimetype": "text/x-python",
   "name": "python",
   "nbconvert_exporter": "python",
   "pygments_lexer": "ipython3",
   "version": "3.8.5"
  }
 },
 "nbformat": 4,
 "nbformat_minor": 5
}
