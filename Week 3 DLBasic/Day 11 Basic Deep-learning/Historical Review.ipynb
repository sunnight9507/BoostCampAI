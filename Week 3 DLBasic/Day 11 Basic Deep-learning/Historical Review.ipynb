{
 "cells": [
  {
   "cell_type": "markdown",
   "id": "fatal-liberia",
   "metadata": {},
   "source": [
    "#### Good deep learner\n",
    "\n",
    "> - Implementation Skills(구현 기술)\n",
    "> - Math Skills\n",
    "> - Knowing a lot of recent Papers\n",
    "\n",
    "#### Introduction\n",
    "\n",
    "> - Artificial Inteligence : Mimic human intelligence\n",
    "> - Machine Learning : Data-driven approach\n",
    "> - Deep Learning : Neural networks\n",
    "\n",
    "> #### Key Componets of Deep Learning\n",
    "> - The **data** that the model can learn from\n",
    "> - The **model** how to transform the data\n",
    "> - The **loss** function that quantifies the badness of the model\n",
    "> - The **algorithm** to adjust the parameters to minimize the loss\n",
    "\n",
    "> #### Data\n",
    "> - Data depend on the type of the problem to solve\n",
    "\n",
    "> #### Model\n",
    "> - AlexNet, ResNet, LSTM, GAN...\n",
    "\n",
    "> #### Loss\n",
    "> - The **loss** function is a proxy of what we want to achieve\n",
    "\n",
    "> #### Optimization Algorithm\n",
    "\n",
    "### Historical Review\n",
    "\n",
    "> #### 2012 - AlexNet\n",
    "> #### 2013 - DQN\n",
    "> #### 2014 - Encoder/Decoder, Adam\n",
    "> #### 2015 - GAN(Generative Adversarial Network), ResNet(Residual Networks)\n",
    "> #### 2017 - Transformer\n",
    "> #### 2018 - Bert(find-tuned NLP models)\n",
    "> #### 2019 - Big Language Models(GPT-X)\n",
    "> #### 2020 - Self-Supervied Learning"
   ]
  }
 ],
 "metadata": {
  "kernelspec": {
   "display_name": "Python 3",
   "language": "python",
   "name": "python3"
  },
  "language_info": {
   "codemirror_mode": {
    "name": "ipython",
    "version": 3
   },
   "file_extension": ".py",
   "mimetype": "text/x-python",
   "name": "python",
   "nbconvert_exporter": "python",
   "pygments_lexer": "ipython3",
   "version": "3.8.5"
  }
 },
 "nbformat": 4,
 "nbformat_minor": 5
}
