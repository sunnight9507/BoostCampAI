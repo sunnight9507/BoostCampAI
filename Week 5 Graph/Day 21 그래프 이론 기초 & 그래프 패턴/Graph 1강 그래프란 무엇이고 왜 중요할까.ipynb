{
 "cells": [
  {
   "cell_type": "markdown",
   "id": "structural-compilation",
   "metadata": {},
   "source": [
    "## 1. 그래프란 무엇이고 왜 중요할까?\n",
    "\n",
    "### 1.1 그래프란 무엇일까?\n",
    "\n",
    "> - **그래프(Graph)는 `정점` 집합과 `간선` 집합으로 이루어진 수학적 구조이다.**\n",
    "> - 그래프는 **네트워크(Network)**로도 불린다.\n",
    "> - 정점(Vertex)은 노드(Node)로 간선은 엣지(Edge) 혹은 링크(Link)로도 불린다.\n",
    "\n",
    "### 1.2 그래프는 왜 중요할까?\n",
    "\n",
    "> - **우리 주변에는 많은 복잡계(Complex System)가 있다.**\n",
    "> - 사회는 70억 인구로 구성된 복잡계이다.\n",
    "> - 통신 시스템은 전자 장치로 구성된 복잡계이다.\n",
    "> - 그 밖에도, 정보와 지식, 뇌, 신체 역시 복잡계로 생각할 수 있다.\n",
    "> - **구성 요소 간의 복잡한 상호작용**이라는 공통적인 특성이 있다.\n",
    "> - **`그래프`는 복잡계를 표현하고 분석하기 위한 언어이다.**\n",
    "\n",
    "## 2. 그래프 관련 인공지능 문제\n",
    "\n",
    "### 2.1 그래프 관련 인공지능 문제\n",
    "\n",
    "> - **정점 분류(Node Classification) 문제**\n",
    "> - 트위터에서의 공유(Retweet) 관계를 분석하여, 각 사용자의 정치적 성향을 알 수 있는지\n",
    "> - 단백질의 상호작용을 분석하여 단백질의 역할을 알아낼 수 있는지\n",
    "\n",
    "> - **연결 예측(Link Prediction) 문제**\n",
    "> - 페이스북 소셜네트워크는 어떻게 진화하는지\n",
    "\n",
    "> - **추천(Recommendation) 문제**\n",
    "> - 각자에게 필요한 물건은 무엇인지\n",
    "> - 어떤 물건을 구매해야 만족도가 높은지\n",
    "\n",
    "> - **군집 분석(Community Detection) 문제**\n",
    "> - 연결 관계로부터 **사회적 무리(Social Circle)**을 찾아낼 수 있는지\n",
    "\n",
    "> - **랭킹(Ranking) 및 정보 검색(Information Retrieval) 문제**\n",
    "> - 웹(Web)이라는 거대한 그래프로부터 어떻게 중요한 웹페이지를 찾아낼 수 있는지\n",
    "\n",
    "> - **정보 전파(Information Cascading) 및 바이럴 마케팅(Viral Marketing) 문제**\n",
    "> - 정보는 네트워크를 통해 어떻게 전달되는지\n",
    "> - 어떻게 정보 전달을 최대화 할 수 있는지\n",
    "\n",
    "## 3. 그래프 관련 필수 기초 개념\n",
    "\n",
    "### 3.1 그래프의 유형 및 분류\n",
    "\n",
    "> - **방향이 없는 그래프(Undirected Graph) vs 방향이 있는 그래프(Directed Graph)**\n",
    "> - **가중치가 없는 그래프(Unweighted Graph) vs 가중치가 있는 그래프(Weighted Graph)**\n",
    "> - **동종 그래프(Unpartite Graph) vs 이종 그래프(Bipartite Graph)**\n",
    "    - 동종 그래프는 **단일 종류의 정점**을 가지고, 이종 그래프는 **두 종류의 정점**을 가진다.\n",
    "\n",
    "### 3.2 그래프 관련 필수 기초 개념\n",
    "\n",
    "> - **그래프(Graph)**는 정점 집합과 간선 집합으로 이루어진 수학적 구조이다.\n",
    "> - 보통 정점들의 집합을 $V$, 간선들의 집합을 $E$, 그래프를 $G = (V, E)$로 표현한다.\n",
    "\n",
    "> - **정점의 이웃(Neighbor)은 그 정점과 연결된 다른 정점을 의미한다.**\n",
    "> - 정점 $v$의 이웃들의 집합을 보통 $N(v)$ 혹은 $N_v$로 표현한다.\n",
    "\n",
    "> - **방향성이 있는 그래프에서는 나가는 이웃과 들어오는 이웃을 구분한다.**\n",
    "> - 정점 $v$ 에서 간선이 나가는 이웃(Out-Neighbor)의 집합을 보통 $N_{out}(v)$, 정점 $v$로 간선이 들어오는 이웃(In-Neighbor)의 집합을 보통 $N_{in}(v)$로 표현한다.\n",
    "\n",
    "## 4. 그래프의 표현 및 저장\n",
    "\n",
    "### 4.1 파이썬 라이브러리 NetworkX 소개\n",
    "\n",
    "> - NetworkX를 이용하여, 그래프를 생성, 변경, 시각화할 수 있다.\n",
    "> - 그래프의 구조와 변화 역시 살펴볼 수 있다.\n",
    "> - [Link](https://networkx.org/documentation/stable/index.html)\n",
    "> - [참고 - snap.py](https://snap.stanford.edu/snappy/)"
   ]
  },
  {
   "cell_type": "code",
   "execution_count": 3,
   "id": "essential-simulation",
   "metadata": {},
   "outputs": [],
   "source": [
    "# 실습에 필요한 library를 임포트합니다.\n",
    "import sys\n",
    "import networkx as nx                           # NetworkX\n",
    "import numpy as np                              # 선형대수를 위한 라이브러리\n",
    "import matplotlib.pyplot as plt                 # 그림을 그리기 위한 라이브러리\n",
    "np.set_printoptions(threshold=sys.maxsize)      "
   ]
  },
  {
   "cell_type": "code",
   "execution_count": 4,
   "id": "hazardous-least",
   "metadata": {},
   "outputs": [
    {
     "name": "stdout",
     "output_type": "stream",
     "text": [
      "###### Graph Init ######\n"
     ]
    }
   ],
   "source": [
    "print(\"###### Graph Init ######\")               \n",
    "G= nx.Graph()                                   # 방향성이 없는 그래프\n",
    "DiGraph = nx.DiGraph()                          # 방향성이 있는 그래프"
   ]
  },
  {
   "cell_type": "code",
   "execution_count": 5,
   "id": "acoustic-crossing",
   "metadata": {},
   "outputs": [
    {
     "name": "stdout",
     "output_type": "stream",
     "text": [
      "###### Add Node to Graph ######\n",
      "# Add node 1\n",
      "Num of nodes in G : 1\n",
      "Graph : [1]\n",
      "\n"
     ]
    }
   ],
   "source": [
    "print(\"###### Add Node to Graph ######\")                    \n",
    "print(\"# Add node 1\")                                      \n",
    "G.add_node(1)                                               # 정점 1 추가\n",
    "print(\"Num of nodes in G : \" + str(G.number_of_nodes()))    # 정점의 수 반환\n",
    "print(\"Graph : \" + str(G.nodes)+ \"\\n\")                      # 정점의 목록 반환"
   ]
  },
  {
   "cell_type": "code",
   "execution_count": 9,
   "id": "demographic-parker",
   "metadata": {},
   "outputs": [
    {
     "name": "stdout",
     "output_type": "stream",
     "text": [
      "# Add vertex 2 ~ 10\n",
      "Num of nodes in G : 10\n",
      "Graph : [1, 2, 3, 4, 5, 6, 7, 8, 9, 10]\n",
      "\n"
     ]
    }
   ],
   "source": [
    "print(\"# Add vertex 2 ~ 10\")                                # 정점 2 ~ 10 추가\n",
    "for i in range (2, 11):\n",
    "    G.add_node(i)\n",
    "print(\"Num of nodes in G : \" + str(G.number_of_nodes()))\n",
    "print(\"Graph : \" + str(G.nodes) + \"\\n\")"
   ]
  },
  {
   "cell_type": "code",
   "execution_count": 10,
   "id": "patent-democracy",
   "metadata": {},
   "outputs": [
    {
     "name": "stdout",
     "output_type": "stream",
     "text": [
      "###### Add Edge to Graph ######\n",
      "#Add edge (1, 2)\n",
      "Graph : [(1, 2)]\n",
      "\n"
     ]
    }
   ],
   "source": [
    "print(\"###### Add Edge to Graph ######\")                    \n",
    "G = nx.Graph()\n",
    "print(\"#Add edge (1, 2)\")                                   \n",
    "G.add_edge(1, 2)                                            # 정점 1과 2 사이에 간선 추가\n",
    "print(\"Graph : \" + str(G.edges) + \"\\n\")                     # 간선의 목록 반환"
   ]
  },
  {
   "cell_type": "code",
   "execution_count": 11,
   "id": "serial-detection",
   "metadata": {},
   "outputs": [
    {
     "name": "stdout",
     "output_type": "stream",
     "text": [
      "#Add edge (1, i) for i = 2 ~ 10\n",
      "Graph : [(1, 2), (1, 3), (1, 4), (1, 5), (1, 6), (1, 7), (1, 8), (1, 9), (1, 10)]\n",
      "\n"
     ]
    }
   ],
   "source": [
    "print(\"#Add edge (1, i) for i = 2 ~ 10\")                    # 정점 1과 다른 정점 사이의 간선 추가\n",
    "for i in range (2, 11):\n",
    "    G.add_edge(1, i)\n",
    "print(\"Graph : \" + str(G.edges) + \"\\n\")"
   ]
  },
  {
   "cell_type": "code",
   "execution_count": 16,
   "id": "surrounded-executive",
   "metadata": {},
   "outputs": [
    {
     "data": {
      "image/png": "[encoded data removed]",
      "text/plain": [
       "<Figure size 432x288 with 1 Axes>"
      ]
     },
     "metadata": {},
     "output_type": "display_data"
    }
   ],
   "source": [
    "# 그래프를 시각화\n",
    "# 정점의 위치 결정\n",
    "pos = nx.spring_layout(G)                                               \n",
    "# 정점의 색과 크기를 지정하여 출력\n",
    "im = nx.draw_networkx_nodes(G, pos, node_color=\"black\", node_size=100)    \n",
    "# 간선 출력\n",
    "nx.draw_networkx_edges(G, pos)                                          \n",
    "# 각 정점의 라벨을 출력\n",
    "nx.draw_networkx_labels(G, pos, font_size=10, font_color=\"white\")       \n",
    "plt.show()"
   ]
  },
  {
   "cell_type": "markdown",
   "id": "romantic-duration",
   "metadata": {},
   "source": [
    "### 4.2 그래프의 표현 및 저장\n",
    "\n",
    "> - **간선 리스트(Edge List)**: 그래프를 간선들의 리스트로 저장\n",
    "> - **인접 리스트(Adjacent list)** : 각 정점의 이웃들을 리스트로 저장\n",
    "> - **인접 행렬(Adjacency Matrix)** : 정점 수 x 정점 수 크기의 행렬"
   ]
  }
 ],
 "metadata": {
  "kernelspec": {
   "display_name": "Python 3",
   "language": "python",
   "name": "python3"
  },
  "language_info": {
   "codemirror_mode": {
    "name": "ipython",
    "version": 3
   },
   "file_extension": ".py",
   "mimetype": "text/x-python",
   "name": "python",
   "nbconvert_exporter": "python",
   "pygments_lexer": "ipython3",
   "version": "3.8.5"
  }
 },
 "nbformat": 4,
 "nbformat_minor": 5
}
