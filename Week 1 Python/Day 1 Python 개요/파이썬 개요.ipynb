{
 "cells": [
  {
   "cell_type": "markdown",
   "id": "requested-warrant",
   "metadata": {},
   "source": [
    "### Python의 시작\n",
    "\n",
    "> - 1991년 Guido Van Rossum이 발표\n",
    "> - **플랫폼 독립적**\n",
    "> - **인터프리터 언어**\n",
    "> - **객체 지향**\n",
    "> - **동적 타이핑 언어**\n",
    "> - 처음 C언어로 구현되었음\n",
    "\n",
    "#### Python의 특징 (1)\n",
    "\n",
    "> - **플랫폼 독립적인 인터프리터 언어**\n",
    "> - **1) 플랫폼 = OS**\n",
    "    - 윈도우, 리눅스, 안드로이드, 맥OS, iOS등 프로그램이 실행되는 **`운영체제`**를 플랫폼이라고 함\n",
    "> - **2) 독립적인 = 관계없는, 상관없는**\n",
    "    - OS에 상관없이 한번 프로그램을 작성하면 사용가능\n",
    "> - **3) 인터프리터 = 통역기를 사용하는 언어**\n",
    "    - 소스코드를 바로 실행할 수 있게 지원하는 프로그램 실행 방법\n",
    "    \n",
    "#### [참고] 컴파일러 vs. 인터프리터\n",
    "\n",
    "#### 1) 컴파일러\n",
    "> - 작동방식\n",
    "    - **소스코드를 기계어로 먼저 번역**\n",
    "    - 해당 플랫폼에 최적화되어 프로그램을 실행\n",
    "> - 장단점\n",
    "    - 실행속도가 빠름\n",
    "    - 한번의 많은 기억장소 필요\n",
    "> - 주요 언어\n",
    "    - C, 자바, C++, C#\n",
    "> - 동작 과정\n",
    "    - Source Code -> Compiler -> Assembler -> CPU\n",
    "    \n",
    "#### 2) 인터프리터\n",
    "> - 작동방식\n",
    "    - 별도의 번역과정 없이 **소스코드를 실행시점에 해석**하여 컴퓨터가 처리할 수 있도록 함\n",
    "> - 장단점\n",
    "    - 간단히 작성, 메모리가 적게 필요\n",
    "    - 실행속도가 느림\n",
    "> - 주요 언어\n",
    "    - 파이썬, 스칼라\n",
    "> - 동작 과정\n",
    "    - Source Code -> Interpreter -> CPU\n",
    "    \n",
    "#### [Compiler vs. Interpreter](https://medium.com/@yeon22/term-compiler-vs-interpreter-2199abe0f01d)\n",
    "    \n",
    "#### Python의 특징 (2)\n",
    "\n",
    "> - **객체 지향 동적 타이핑 언어**\n",
    "> - 객체 지향적 언어\n",
    "    - **실행 순서가 아닌 단위 모듈(객체) 중심으로 프로그램을 작성**\n",
    "    - 하나의 객체는 어떤 목적을 달성하기 위한 행동과 속성을 가지고 있음\n",
    "    - [객차지향 vs. 절차지향](https://brownbears.tistory.com/407)\n",
    "> - 동적 타이핑 언어\n",
    "    - 프로그램이 **실행하는 시점에 프로그램**이 사용해야할 **데이터에 대한 타입을 결정**\n",
    "    - [Static Typing vs Dynamic Typing](https://qpakzk.github.io/software-notes/2018/10/06/PL-Static-Typing-vs-Dynamic-Typing/)"
   ]
  }
 ],
 "metadata": {
  "kernelspec": {
   "display_name": "Python 3",
   "language": "python",
   "name": "python3"
  },
  "language_info": {
   "codemirror_mode": {
    "name": "ipython",
    "version": 3
   },
   "file_extension": ".py",
   "mimetype": "text/x-python",
   "name": "python",
   "nbconvert_exporter": "python",
   "pygments_lexer": "ipython3",
   "version": "3.8.5"
  }
 },
 "nbformat": 4,
 "nbformat_minor": 5
}
