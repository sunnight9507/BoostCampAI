{
 "cells": [
  {
   "cell_type": "markdown",
   "id": "bridal-values",
   "metadata": {},
   "source": [
    "#### 환경 설정\n",
    "\n",
    "> - **1) miniconda download**\n",
    "    - [Link](https://docs.conda.io/en/latest/miniconda.html)\n",
    "    - 설정\n",
    "        - just me\n",
    "        - Add Miniconda3 my PATH environment variable check\n",
    "    - pip install jupyter\n",
    "    - pip uninstall jedi (자동완성 설정)\n",
    "    \n",
    "> - **2) VSCode download**\n",
    "    - [Link](https://code.visualstudio.com/)\n",
    "    - 설정\n",
    "        - 기타 모두 체크\n",
    "        \n",
    "> - **3) Cmder download**\n",
    "    - [Link](https://cmder.net/)\n",
    "    - [환경 설정](https://www.youtube.com/watch?v=aaBBqeUA3Ao)"
   ]
  }
 ],
 "metadata": {
  "kernelspec": {
   "display_name": "Python 3",
   "language": "python",
   "name": "python3"
  },
  "language_info": {
   "codemirror_mode": {
    "name": "ipython",
    "version": 3
   },
   "file_extension": ".py",
   "mimetype": "text/x-python",
   "name": "python",
   "nbconvert_exporter": "python",
   "pygments_lexer": "ipython3",
   "version": "3.8.5"
  }
 },
 "nbformat": 4,
 "nbformat_minor": 5
}
