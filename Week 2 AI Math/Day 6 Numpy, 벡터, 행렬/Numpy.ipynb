{
 "cells": [
  {
   "cell_type": "markdown",
   "id": "least-ranking",
   "metadata": {},
   "source": [
    "## Numpy\n",
    "\n",
    "> - Numerical Python\n",
    "> - 파이썬의 **고성능 과학 계산용 패키지**\n",
    "> - **Matrix와 Vector와 같은 Array 연산의 사실상의 표준**\n",
    "\n",
    "#### Numpy 특징\n",
    "\n",
    "> - 일반 List에 비해 빠르고, 메모리 효율적\n",
    "> - 반복문 없이 데이터 배열에 대한 처리를 지원함\n",
    "> - 선형대수와 관련된 다양한 기능을 제공함\n",
    "\n",
    "#### array creation\n",
    "\n",
    "> - numpy는 **하나의 데이터 type**만 배열에 넣을 수 있음\n",
    "> - List와 가장 큰 차이점 -> **dynamic typing not supported**\n",
    "> - C의 Array를 사용하여 배열을 생성함\n",
    "\n",
    "#### empty\n",
    "\n",
    "> - shape만 주어지고 비어있는 ndarray 생성\n",
    "    - memory initialization이 되지 않음\n",
    "    \n",
    "#### Element-wise operations\n",
    "\n",
    "> - Array간 shape이 같을 때 일어나는 연산\n",
    "\n",
    "#### Broadcasting\n",
    "\n",
    "> - Shape이 다른 배열 간 연산을 지원하는 기능\n",
    "\n",
    "#### np.where\n",
    "\n",
    "> - ```python\n",
    "    np.where(a < 3, \"OK\", \"Wrong\") # where(condition, True, False)\n",
    "    ```\n",
    "    \n",
    "#### load & save\n",
    "\n",
    "> - ```python\n",
    "    np.loadtxt(\"test.txt\") # 파일 호출\n",
    "    np.savetxt(\"data.csv\", array, delimiter=\",\") # csv로 파일 저장\n",
    "    # npy load, save\n",
    "    np.save(\"npy_test\", arr=array)\n",
    "    np.load(file=\"npy_test\")\n",
    "    ```\n",
    "\n",
    "#### 참고\n",
    "\n",
    "> - python `is`는 메모리의 위치를 비교"
   ]
  }
 ],
 "metadata": {
  "kernelspec": {
   "display_name": "Python 3",
   "language": "python",
   "name": "python3"
  },
  "language_info": {
   "codemirror_mode": {
    "name": "ipython",
    "version": 3
   },
   "file_extension": ".py",
   "mimetype": "text/x-python",
   "name": "python",
   "nbconvert_exporter": "python",
   "pygments_lexer": "ipython3",
   "version": "3.8.5"
  }
 },
 "nbformat": 4,
 "nbformat_minor": 5
}
