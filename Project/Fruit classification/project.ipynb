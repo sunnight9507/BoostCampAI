{
  "nbformat": 4,
  "nbformat_minor": 0,
  "metadata": {
    "colab": {
      "name": "project.ipynb",
      "provenance": [],
      "collapsed_sections": []
    },
    "kernelspec": {
      "name": "python3",
      "display_name": "Python 3"
    }
  },
  "cells": [
    {
      "cell_type": "code",
      "metadata": {
        "colab": {
          "base_uri": "https://localhost:8080/"
        },
        "id": "d96ufI0-uNNT",
        "outputId": "a01db1b8-9c05-4d20-99a8-277f4eb6ae4e"
      },
      "source": [
        "from google.colab import drive \r\n",
        "\r\n",
        "# drive mount\r\n",
        "drive.mount('/content/gdrive/')"
      ],
      "execution_count": null,
      "outputs": [
        {
          "output_type": "stream",
          "text": [
            "Drive already mounted at /content/gdrive/; to attempt to forcibly remount, call drive.mount(\"/content/gdrive/\", force_remount=True).\n"
          ],
          "name": "stdout"
        }
      ]
    },
    {
      "cell_type": "code",
      "metadata": {
        "id": "tG05ISa95cKZ"
      },
      "source": [
        "import os\r\n",
        "import glob\r\n",
        "from PIL import Image\r\n",
        "import numpy as np\r\n",
        "import matplotlib.pyplot as plt"
      ],
      "execution_count": null,
      "outputs": []
    },
    {
      "cell_type": "code",
      "metadata": {
        "colab": {
          "base_uri": "https://localhost:8080/"
        },
        "id": "RPhbSVHdZ3pT",
        "outputId": "121a2512-2c0b-4799-f3a5-8ad5566c5942"
      },
      "source": [
        "class_paths = glob.glob(\"/content/gdrive/MyDrive/FruitDataset/*\")[:-2]\r\n",
        "\r\n",
        "class_paths"
      ],
      "execution_count": null,
      "outputs": [
        {
          "output_type": "execute_result",
          "data": {
            "text/plain": [
              "['/content/gdrive/MyDrive/FruitDataset/apple',\n",
              " '/content/gdrive/MyDrive/FruitDataset/orange',\n",
              " '/content/gdrive/MyDrive/FruitDataset/peach',\n",
              " '/content/gdrive/MyDrive/FruitDataset/melon',\n",
              " '/content/gdrive/MyDrive/FruitDataset/pineapple',\n",
              " '/content/gdrive/MyDrive/FruitDataset/lemon',\n",
              " '/content/gdrive/MyDrive/FruitDataset/mango',\n",
              " '/content/gdrive/MyDrive/FruitDataset/cherry',\n",
              " '/content/gdrive/MyDrive/FruitDataset/banana',\n",
              " '/content/gdrive/MyDrive/FruitDataset/grape',\n",
              " '/content/gdrive/MyDrive/FruitDataset/pear',\n",
              " '/content/gdrive/MyDrive/FruitDataset/makuwa',\n",
              " '/content/gdrive/MyDrive/FruitDataset/tomato',\n",
              " '/content/gdrive/MyDrive/FruitDataset/watermelon']"
            ]
          },
          "metadata": {
            "tags": []
          },
          "execution_count": 90
        }
      ]
    },
    {
      "cell_type": "code",
      "metadata": {
        "colab": {
          "base_uri": "https://localhost:8080/"
        },
        "id": "knpyjWRlv8Ou",
        "outputId": "9f09a9a2-3718-40e0-ee73-8aeb286d39d5"
      },
      "source": [
        "for class_path in class_paths:\r\n",
        "  print(\"Class name : {}\".format(class_path.split('/')[-1]))\r\n",
        "  print(\"jpg count : {}, png count : {}\".format(len(glob.glob(class_path + \"/*.jpg\")), len(glob.glob(class_path + \"/*.png\"))))"
      ],
      "execution_count": null,
      "outputs": [
        {
          "output_type": "stream",
          "text": [
            "Class name : apple\n",
            "jpg count : 733, png count : 11\n",
            "Class name : orange\n",
            "jpg count : 254, png count : 232\n",
            "Class name : peach\n",
            "jpg count : 322, png count : 169\n",
            "Class name : melon\n",
            "jpg count : 325, png count : 162\n",
            "Class name : pineapple\n",
            "jpg count : 315, png count : 213\n",
            "Class name : lemon\n",
            "jpg count : 515, png count : 3\n",
            "Class name : mango\n",
            "jpg count : 519, png count : 1\n",
            "Class name : cherry\n",
            "jpg count : 317, png count : 237\n",
            "Class name : banana\n",
            "jpg count : 261, png count : 259\n",
            "Class name : grape\n",
            "jpg count : 738, png count : 4\n",
            "Class name : pear\n",
            "jpg count : 26, png count : 424\n",
            "Class name : makuwa\n",
            "jpg count : 65, png count : 326\n",
            "Class name : tomato\n",
            "jpg count : 0, png count : 539\n",
            "Class name : watermelon\n",
            "jpg count : 0, png count : 697\n"
          ],
          "name": "stdout"
        }
      ]
    },
    {
      "cell_type": "code",
      "metadata": {
        "id": "PqGV4kP-wl8J"
      },
      "source": [
        ""
      ],
      "execution_count": null,
      "outputs": []
    },
    {
      "cell_type": "code",
      "metadata": {
        "id": "CoIVD-BEwliC"
      },
      "source": [
        ""
      ],
      "execution_count": null,
      "outputs": []
    },
    {
      "cell_type": "code",
      "metadata": {
        "id": "Vav2FiESwlXa"
      },
      "source": [
        ""
      ],
      "execution_count": null,
      "outputs": []
    },
    {
      "cell_type": "code",
      "metadata": {
        "id": "Jp4blJF3wlNQ"
      },
      "source": [
        ""
      ],
      "execution_count": null,
      "outputs": []
    },
    {
      "cell_type": "code",
      "metadata": {
        "id": "cXAP0PCpwlCP"
      },
      "source": [
        ""
      ],
      "execution_count": null,
      "outputs": []
    },
    {
      "cell_type": "code",
      "metadata": {
        "id": "URPLvMB9wk0Z"
      },
      "source": [
        ""
      ],
      "execution_count": null,
      "outputs": []
    },
    {
      "cell_type": "code",
      "metadata": {
        "id": "dYNMhGimwkRJ"
      },
      "source": [
        ""
      ],
      "execution_count": null,
      "outputs": []
    },
    {
      "cell_type": "code",
      "metadata": {
        "id": "hn0SKRa5v8If"
      },
      "source": [
        ""
      ],
      "execution_count": null,
      "outputs": []
    },
    {
      "cell_type": "code",
      "metadata": {
        "id": "TdaAAWNav7pH"
      },
      "source": [
        ""
      ],
      "execution_count": null,
      "outputs": []
    },
    {
      "cell_type": "code",
      "metadata": {
        "id": "ob-EURRWv6O_"
      },
      "source": [
        ""
      ],
      "execution_count": null,
      "outputs": []
    }
  ]
}