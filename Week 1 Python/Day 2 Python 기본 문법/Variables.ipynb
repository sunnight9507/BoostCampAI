{
 "cells": [
  {
   "cell_type": "markdown",
   "id": "congressional-shell",
   "metadata": {},
   "source": [
    "## Variable & Memory\n",
    "\n",
    "### 변수의 개요\n",
    "\n",
    "> - 가장 기초적인 프로그래밍 문법 개념\n",
    "> - 데이터(값)을 저장하기 위한 메모리 공간의 프로그래밍상 이름\n",
    "\n",
    "\n",
    "> - ```Python\n",
    "a = 10\n",
    "\n",
    "> - 위 코드의 의미는 a라는 **`변수`**에 10이라는 **`값`**을 넣어라는 의미\n",
    "\n",
    "#### 변수(Variable)란?\n",
    "\n",
    "> - 프로그래밍에서는 변수는 **값을 저장하는 장소**\n",
    "> - 변수는 **메몸리 주소**를 가지고 있고 변수에 들어가는 **값**은 **메모리 주소**에 할당됨\n",
    "\n",
    "#### [참고] 컴퓨터의 구조 - 폰 노이만(John von Neumann) 아키텍처\n",
    "\n",
    "> - 폰 노이만 아케텍처에서는 사용자가 컴퓨터에 값을 입력하거나 프로그램을 실행할 경우 그 **정보를 먼저 메모리에 저장**시키고 **CPU가 순차적으로 그 정보를 해석하고 계산하여** 사용자에게 결과값을 전달\n",
    "> - <img src=\"../../image/day2_1.png\" width = 300 align=\"left\">"
   ]
  },
  {
   "cell_type": "markdown",
   "id": "confident-glance",
   "metadata": {},
   "source": [
    "#### 메모리와 변수\n",
    "\n",
    "> - 변수 : 프로그램에서 사용하기 위한 특정한 값을 저장하는 공간\n",
    "> - 선언 되는 순간 **메모리 특정영역에 물리적인 공간**이 할당됨\n",
    "> - 변수에는 값이 할당되고 해당 값은 메모리에 저장됨\n",
    "> - `A = 8`의 의미는 A라는 이름을 가진 메모리 주소에 8을 저장하라는 의미\n",
    "\n",
    "### Basic Operation (간단한 연산)\n",
    "\n",
    "#### Primitive Data Types (기본 자료형)\n",
    "\n",
    "> - Data Type : 파이썬이 처리할 수 있는 데이터 유형\n",
    "> - integer(수치자료형 - 정수형)\n",
    "> - float(수치자료형 - 실수형)\n",
    "> - string(문자형)\n",
    "> - boolean(논리/불린 자료형)\n",
    "\n",
    "#### Dymamin Typing\n",
    "\n",
    "> - 코드 **실행시점**에 데이터의 **`Type`을 결정**하는 방법\n",
    "\n",
    "#### [참고] 컴퓨터는 왜 이진수를 쓰나?\n",
    "\n",
    "> - 컴퓨터는 실리콘이라는 재료로 만든 반도체로 구성됨\n",
    "> - **반도체는 특정 자극을 줬을 떄 전기를 통할 수 있게 하는 물질**\n",
    "> - 도체와 부도체에 반해 반도체는 전류의 흐름의 제어가 가능\n",
    "> - **전류가 흐를 때 1, 흐르지 않을 때 0으로만 숫자를 표현**할 수 있음\n",
    "> - 이진수 한자리를 bit라 칭하고 8개의 bit는 1byte\n",
    "\n",
    "### List\n",
    "\n",
    "> - 시퀀스 자료형, 여러 데이터들의 집합\n",
    "> - int, float 같은 다양한 데이터 타입 포함\n",
    "\n",
    "#### List 특징\n",
    "\n",
    "> - **Indexing**\n",
    "    - list에 있는 값들은 **주소(offset)**를 가짐\n",
    "    - 주소를 사용해 할당된 값을 호출\n",
    "> - **Slicing**\n",
    "    - list의 값들을 잘라서 쓰는 것\n",
    "    - list의 주소 값을 기반으로 부분 값을 반환\n",
    "> - 다양한 Data Type이 하나의 list에 들어감\n",
    "> - **packing, unpacking**"
   ]
  },
  {
   "cell_type": "markdown",
   "id": "immune-controversy",
   "metadata": {},
   "source": [
    "### [참고 영상 정리]"
   ]
  }
 ],
 "metadata": {
  "kernelspec": {
   "display_name": "Python 3",
   "language": "python",
   "name": "python3"
  },
  "language_info": {
   "codemirror_mode": {
    "name": "ipython",
    "version": 3
   },
   "file_extension": ".py",
   "mimetype": "text/x-python",
   "name": "python",
   "nbconvert_exporter": "python",
   "pygments_lexer": "ipython3",
   "version": "3.8.5"
  }
 },
 "nbformat": 4,
 "nbformat_minor": 5
}
