{
 "cells": [
  {
   "cell_type": "markdown",
   "id": "three-spell",
   "metadata": {},
   "source": [
    "### 1.1 Problem, computation, decision, and optimization\n",
    "\n",
    "> - 문제란 바라는 것과 인식하는 것 간의 차이다.\n",
    "> - 문제 풀이 Solution\n",
    "    - Initial state -> Intermediate states -> Terminal state로 가는 과정\n",
    "    \n",
    "> - Computation\n",
    "    - any type of calculation includes both arithmetical and non-arithmetical steps an which follows a well-defined model (e.g an algorithm)\n",
    "    \n",
    "### 1.2 Constraints\n",
    "\n",
    "> - Decision problem\n",
    "    - Objective : maximize performance with an infinite amount of resources\n",
    "> - Optimization problem\n",
    "    - Objective : maximize performance while $\\mathrm{Cost}_1 + \\mathrm{Cost}_2 + ... <= \\mathrm{Constraint}$\n",
    "\n",
    "### 1.3 Constraints in model compression\n",
    "\n",
    "> - 최적화와 경량화\n",
    "    - (Structured) Pruning\n",
    "    - Quantization\n",
    "    - Knowledge Distillation\n",
    "    - Filter decomposition\n",
    "    \n",
    "> - CO2 emission"
   ]
  }
 ],
 "metadata": {
  "kernelspec": {
   "display_name": "Python 3",
   "language": "python",
   "name": "python3"
  },
  "language_info": {
   "codemirror_mode": {
    "name": "ipython",
    "version": 3
   },
   "file_extension": ".py",
   "mimetype": "text/x-python",
   "name": "python",
   "nbconvert_exporter": "python",
   "pygments_lexer": "ipython3",
   "version": "3.8.5"
  }
 },
 "nbformat": 4,
 "nbformat_minor": 5
}
