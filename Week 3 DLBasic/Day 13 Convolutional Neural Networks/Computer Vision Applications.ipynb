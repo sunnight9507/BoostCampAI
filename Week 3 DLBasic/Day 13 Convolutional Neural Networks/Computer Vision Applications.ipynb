{
 "cells": [
  {
   "cell_type": "markdown",
   "id": "sixth-minneapolis",
   "metadata": {},
   "source": [
    "#### Semantic Segmentation\n",
    "\n",
    "> - Image의 모든 픽셀이 어떤 라벨에 속하는지 확인하는 것\n",
    "\n",
    "> #### Fully Convolutional Network\n",
    "> - Dense layer가 없는 network\n",
    "> - This process is called **convolutionalization**\n",
    "> - 어떠한 size든 FCN을 거치게 되면 전형적으로 size는 줄어들게 된다. 그래서 원래 size만클 늘리는 방법이 필요하다.\n",
    "> - Deconvolution(conv transpose)\n",
    "> - [참고 링크](https://kuklife.tistory.com/117)\n",
    "\n",
    "#### Detection\n",
    "\n",
    "> #### R-CNN\n",
    "> - bounding box를 여러개 뽑고 각 feature를 AlexNet을 통해 얻은 다음에 SVM으로 분류하는 방식\n",
    "> - 문제점 : 여러개(2000)의 bounding box를 모두 CNN을 돌려야 된다.\n",
    "\n",
    "> #### SPPNet\n",
    "> - bounding box를 여러개 뽑고 Image를 CNN 연산을 한번만 진행시키고 해당 bounding box에 맞게 mapping 해주는 방식\n",
    "\n",
    "> #### Fast R-CNN\n",
    "> - SPPNet과 유사 뒷단의 Neural network를 통해 ROI pooling으로 class와 bbox regressor 출력\n",
    "\n",
    "> #### Faster R-CNN\n",
    "> - bounding box를 뽑는 것도 학습시킨것을 사용\n",
    "> - **Region Proposal Network** + Fast R-CNN\n",
    "> - **Region Proposal Network**\n",
    "    - 특정 영역이 bounding box로서의 의미가 있는지 확인\n",
    "    - FCN 사용\n",
    "    - 9 : (128, 256, 512) size x (1:1, 1:2, 2:1) ratios\n",
    "    - 4 : bbox를 키우고 줄일지\n",
    "    - 2 : 해당 box가 필요있는지 분류\n",
    "    - [Link](https://towardsdatascience.com/region-proposal-network-a-detailed-view-1305c7875853)\n",
    "    \n",
    "> #### YOLO\n",
    "> - **Y**ou **O**nly **L**ook **O**nce\n",
    "> - Region Proposal이 없어 Faster R-CNN보다 빠르다.\n",
    "> - 1) Image를 SxS grid로 나눈다.\n",
    "> - 2-1) 각각의 cell은 B개(5)의 bounding box를 예측하게 된다.\n",
    "    - x, y, w, h, bbox가 쓸모있는지\n",
    "> - 2-2) 각각의 grid cell에 속하는 object가 어떤 class에 속하는지 예측\n",
    "> - 3) 2)의 정보를 취합하게 되면 해당 box가 어떤 class인지 알 수 있다."
   ]
  }
 ],
 "metadata": {
  "kernelspec": {
   "display_name": "Python 3",
   "language": "python",
   "name": "python3"
  },
  "language_info": {
   "codemirror_mode": {
    "name": "ipython",
    "version": 3
   },
   "file_extension": ".py",
   "mimetype": "text/x-python",
   "name": "python",
   "nbconvert_exporter": "python",
   "pygments_lexer": "ipython3",
   "version": "3.8.5"
  }
 },
 "nbformat": 4,
 "nbformat_minor": 5
}
