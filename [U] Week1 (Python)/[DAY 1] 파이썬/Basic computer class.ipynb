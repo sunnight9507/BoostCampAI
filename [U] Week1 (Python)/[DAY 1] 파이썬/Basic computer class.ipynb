{
 "cells": [
  {
   "cell_type": "markdown",
   "id": "widespread-sweden",
   "metadata": {},
   "source": [
    "### FIle System & Terminal Basic\n",
    "\n",
    "#### 1) 컴퓨터 OS\n",
    "\n",
    "> - Operating System, 운영체제\n",
    "> - 우리의 프로그램이 동작할 수 있는 구동 환경\n",
    "\n",
    "#### 2) File System\n",
    "\n",
    "> - OS에서 파일을 저장하는 **트리구조** 저장 체계\n",
    "\n",
    "#### 3) Terminal\n",
    "\n",
    "> - mouse가 아닌 키보드로 명령을 입력 프로그램 실행\n",
    "    - GUI : Graphical User Interface\n",
    "    - CLI : Command Line Interface\n",
    "> - Console = Terminal = CMD창\n",
    "\n",
    "> #### 기본 명령어\n",
    "> - (윈도우 CMD 명령어 / shell 명령어) / 설명\n",
    "    - (CD / cd) 현재 디렉토리 이름을 보여주거나 바꾼다. (change directory)\n",
    "    - (CLS / clear) CMD 화면에 표시된 것을 모두 지운다. (clear screen)\n",
    "    - (COPY / cp) 하나 이상의 파일을 다른 위치로 복사.\n",
    "    - (DEL / rm) 하나 이상의 파일을 제거.\n",
    "    - (DIR / ls) 디렉토리에 있는 파일과 하위 디렉토리 목록을 보여줌"
   ]
  }
 ],
 "metadata": {
  "kernelspec": {
   "display_name": "Python 3",
   "language": "python",
   "name": "python3"
  },
  "language_info": {
   "codemirror_mode": {
    "name": "ipython",
    "version": 3
   },
   "file_extension": ".py",
   "mimetype": "text/x-python",
   "name": "python",
   "nbconvert_exporter": "python",
   "pygments_lexer": "ipython3",
   "version": "3.8.5"
  }
 },
 "nbformat": 4,
 "nbformat_minor": 5
}
