{
 "cells": [
  {
   "cell_type": "markdown",
   "id": "infrared-humidity",
   "metadata": {},
   "source": [
    "### 1.1 Knowledge\n",
    "\n",
    "> - Data - Information - Knowledge - Wisdom\n",
    "\n",
    "### 1.2 Knowledge distillation\n",
    "\n",
    "> - Knowledge Transfer\n",
    "    - domain은 동일 \n",
    "    - model size를 줄이는 것이 목표\n",
    "    \n",
    "### 1.3 Teacher-Student networks & Hinton loss\n",
    "\n",
    "> - $L(x; W) = \\alpha * H(y, \\sigma(z_s; T=1)) + \\beta * H(\\sigma(z_t; T = \\tau), \\sigma(z_s, T=\\tau))$\n",
    "    - $x$ : input\n",
    "    - $W$ : student model parameters\n",
    "    - $y$ : groud truth label\n",
    "    - $H$ : cross-entropy loss function\n",
    "    - $\\sigma$ : softmax function\n",
    "    - $T$ : temperature\n",
    "    - $\\alpha$ : coefficient\n",
    "    - $\\beta$ : coefficient\n",
    "    - $z_s$ : logit of the student\n",
    "    - $z_t$ : logit of the teacher\n",
    "\n",
    "### 1.4 Zero-mean assumtion\n",
    "\n",
    "### 1.5 여러 distillations\n",
    "\n",
    "> - Feature distillation\n",
    "> - Data-free knowledge distillation"
   ]
  },
  {
   "cell_type": "code",
   "execution_count": null,
   "id": "assured-direction",
   "metadata": {},
   "outputs": [],
   "source": []
  }
 ],
 "metadata": {
  "kernelspec": {
   "display_name": "Python 3",
   "language": "python",
   "name": "python3"
  },
  "language_info": {
   "codemirror_mode": {
    "name": "ipython",
    "version": 3
   },
   "file_extension": ".py",
   "mimetype": "text/x-python",
   "name": "python",
   "nbconvert_exporter": "python",
   "pygments_lexer": "ipython3",
   "version": "3.8.5"
  }
 },
 "nbformat": 4,
 "nbformat_minor": 5
}
