{
 "cells": [
  {
   "cell_type": "markdown",
   "id": "local-correction",
   "metadata": {},
   "source": [
    "#### Recurrent Neural Network\n",
    "\n",
    "> - RNN hidden state 계산\n",
    "> - We can process a sequence of vectors by applying a recurrence formula at every time step\n",
    "> - $h_t = f_W(h_{t-1}, x_t)$\n",
    "> - $h_{t-1}$ : old hidden-state vector\n",
    "> - $x_t$ : input vector at some time step\n",
    "> - $h_t$ : new hidden-state vector\n",
    "> - $f_W$ : RNN function with parameters $W$\n",
    "> - $y_t$ : output vector at time step $t$\n",
    "> - **The same function** and **the same set of parameters** are used at every time step\n",
    "\n",
    "> - $h_t = f_W(h_{t-1}, x_t)$\n",
    "> - $\\qquad \\Downarrow$\n",
    "> - $h_t = \\tanh{(W_{hh}h_{t-1} + W_{xh}x_t)}$\n",
    "> - $y_t = W_{hy}h_t$\n",
    "\n",
    "#### Types of RNNs\n",
    "\n",
    "> #### One-to-one\n",
    "> - Standard Neural Networks\n",
    "\n",
    "> #### One-to-many\n",
    "> - Image Captioning\n",
    "\n",
    "> #### many-to-one\n",
    "> - Sentiment Classification\n",
    "\n",
    "> #### many-to-many\n",
    "> - Machine Translation, Video classification on frame level\n",
    "\n",
    "#### Character-level Language Model\n",
    "\n",
    "> #### Example of training sequence \"hello\"\n",
    "> - Vocabulary: [h, e, l, o]\n",
    "> - Example training sequence : \"hello\"\n",
    "> - $\\mathrm{Logit} = W_{hy}h_t + b$\n",
    "> - At test-time, sample characters one at a time, feed back to model\n",
    "\n",
    "#### Backpropagation through time (BPTT)\n",
    "\n",
    "> - Forward through entire sequence to compute loss, then backward through entire sequence to compute gradient\n",
    "> - Run forward and backward through chunks of the sequence instead of whole sequence\n",
    "> - Carry hidden states forward in time forever, but only backpropagate for some smaller number of steps\n",
    "\n",
    "#### Vanishing/Exploding Gradient Problem in RNN\n",
    "\n",
    "> - Multiplying the same matrix at each time step during backpropagation causes gradient vanishing or exploding"
   ]
  }
 ],
 "metadata": {
  "kernelspec": {
   "display_name": "Python 3",
   "language": "python",
   "name": "python3"
  },
  "language_info": {
   "codemirror_mode": {
    "name": "ipython",
    "version": 3
   },
   "file_extension": ".py",
   "mimetype": "text/x-python",
   "name": "python",
   "nbconvert_exporter": "python",
   "pygments_lexer": "ipython3",
   "version": "3.8.5"
  }
 },
 "nbformat": 4,
 "nbformat_minor": 5
}
