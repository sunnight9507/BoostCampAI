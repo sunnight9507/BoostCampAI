{
 "cells": [
  {
   "cell_type": "markdown",
   "id": "restricted-trunk",
   "metadata": {},
   "source": [
    "### 1. Generation-based MRC\n",
    "\n",
    "#### Generation-based MRC 문제 정의\n",
    "- 주어진 지문과 질의를 보고, 답변을 **생성** => 생성 문제\n",
    "\n",
    "#### Generation-based MRC 평가 방법\n",
    "- 동일한 extractive answer datasets => Extraction-based MRC와 동일한 평가 방법을 사용 (recap)\n",
    "- EM Score & F1 Score\n",
    "\n",
    "#### Generation-based MRC & Extraction-based MRC 비교\n",
    "- MRC 모델 구조\n",
    "    - Seq-to-seq PLM 구조 (generation)\n",
    "    - PLM + Classifier 구조 (extraction)\n",
    "- Loss 계산을 위한 답의 형태 / Prediction의 형태\n",
    "    - Free-from text 형태 (generation)\n",
    "    - 지문 내 답의 위치 (extraction)\n",
    "\n",
    "### 2. Pre-processing\n",
    "\n",
    "#### 토큰화\n",
    "- WordPiece Tokenizer\n",
    "\n",
    "#### additional information\n",
    "- Token type ids\n",
    "    - BERT와 달리 BART에서는 입력시퀀스에 대한 구분이 없어 token_type_ids가 존재하지 않음\n",
    "    \n",
    "#### 정답 출력\n",
    "- 실제 텍스트를 생성하는 과제를 수행\n",
    "\n",
    "### 3. Model\n",
    "\n",
    "#### BART\n",
    "- 기계 독해, 기계 번역, 요약, 대화 등 sequence to sequence 문제의 pre-training을 위한 denoising autoencoder\n",
    "\n",
    "#### BART Encoder & Decoder\n",
    "- BART의 인코더는 BERT처럼 bi-directional\n",
    "- BART의 디코더는 GPT처럼 uni-directional(autoregressive)\n",
    "\n",
    "#### Pre-training BART\n",
    "- BART는 텍스트에 노이즈를 주고 원래 텍스트를 복구하는 문제를 푸는 것으로 pre-training함\n",
    "\n",
    "### 4. Post-processing\n",
    "\n",
    "### Searching\n",
    "- Greedy Search\n",
    "- Exhaustive Search\n",
    "- Beam Search"
   ]
  }
 ],
 "metadata": {
  "kernelspec": {
   "display_name": "Python 3",
   "language": "python",
   "name": "python3"
  },
  "language_info": {
   "codemirror_mode": {
    "name": "ipython",
    "version": 3
   },
   "file_extension": ".py",
   "mimetype": "text/x-python",
   "name": "python",
   "nbconvert_exporter": "python",
   "pygments_lexer": "ipython3",
   "version": "3.8.5"
  }
 },
 "nbformat": 4,
 "nbformat_minor": 5
}
