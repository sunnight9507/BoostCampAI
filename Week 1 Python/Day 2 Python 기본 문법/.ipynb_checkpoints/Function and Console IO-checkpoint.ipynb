{
 "cells": [
  {
   "cell_type": "markdown",
   "id": "satisfied-blade",
   "metadata": {},
   "source": [
    "## Function and Console IO\n",
    "\n",
    "### Function\n",
    "\n",
    "> - 어떤 일을 수행하는 코드의 덩어리\n",
    "> - 반복적인 수행을 1회만 작성 후 호출\n",
    "> - 코드를 논리적인 단위로 분리\n",
    "> - 캡슐화 : 인터페이스만 알면 타인의 코드 사용\n",
    "> - **함수 사이 두 줄 띄우는 것을 권장**\n",
    "\n",
    "#### parameter vs. argument\n",
    "\n",
    "> - **parameter** : 함수의 입력 값 인터페이스\n",
    "> - **argument** : 실제 parameter에 대입된 값\n",
    "\n",
    "### console in/out\n",
    "\n",
    "> - 문자열을 입력 받는 함수\n",
    "    - ```Python\n",
    "    input()\n",
    "    ```\n",
    "    \n",
    "#### print formatting\n",
    "\n",
    "> - 1) % string\n",
    "    - ```Python\n",
    "        print('I eat %d apples.' % 3)\n",
    "        # I eat 3apples.\n",
    "      ```\n",
    "> - 2) str.format 함수\n",
    "    - ```Python\n",
    "        print('My name is {0} and {1} years old.'.format('sun', 20))\n",
    "        # My name is sun and 20 years old.\n",
    "        print('Product : {0:<7s}, Price per unit : {1:<7.3f}.'.format('Apple', 5.21))\n",
    "        # Product : Apple  , Price per unit : 5.210  .\n",
    "      ```\n",
    "> - 3) fstring\n",
    "    - python 3.6이후, PEP498에 근거한 formatting 기법\n",
    "    - ```Python\n",
    "        name = 'sun'\n",
    "        age = 20\n",
    "        print(f'Hello, {name}, You are {age}')\n",
    "        print(f'{name:*^10}')\n",
    "        pi = 3.141592\n",
    "        print(f'{pi:.2f}')\n",
    "        # Hello, sun, You are 20\n",
    "        # ***sun****\n",
    "        # 3.14\n",
    "    ```"
   ]
  }
 ],
 "metadata": {
  "kernelspec": {
   "display_name": "Python 3",
   "language": "python",
   "name": "python3"
  },
  "language_info": {
   "codemirror_mode": {
    "name": "ipython",
    "version": 3
   },
   "file_extension": ".py",
   "mimetype": "text/x-python",
   "name": "python",
   "nbconvert_exporter": "python",
   "pygments_lexer": "ipython3",
   "version": "3.8.5"
  }
 },
 "nbformat": 4,
 "nbformat_minor": 5
}
