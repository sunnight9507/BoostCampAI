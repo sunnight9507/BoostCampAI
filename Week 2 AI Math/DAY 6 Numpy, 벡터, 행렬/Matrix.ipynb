{
 "cells": [
  {
   "cell_type": "markdown",
   "id": "suburban-myrtle",
   "metadata": {},
   "source": [
    "## Matrix\n",
    "\n",
    "> - 행렬은 벡터를 원소로 가지는 **2차원 배열**이다.\n",
    "> - 행렬은 **행(row)**과 **열(column)**이라는 인덱스를 가진다.\n",
    "> - 벡터가 공간에서 한 점을 의미한다면 행렬은 **여러 점들**을 나타낸다.\n",
    "> - 행렬 곱셈은 **$i$번째 행벡터와 $j$번째 열벡터 사이의 내적**을 성분으로 가지는 행렬을 계산한다.\n",
    "    - $XY = (\\sum_k x_{ik}y_{kj})$\n",
    "> - **`np.inner`**은 **$i$번째 행벡터와 $j$번째 행벡터 사이의 내적**을 성분으로 가지는 행렬을 계산\n",
    "    - 수학에서 말하는 내적과는 다르다.\n",
    "    - - $XY^T = (\\sum_k x_{ik}y_{jk})$\n",
    "> - 행렬은 **벡터공간에서 사용되는 연산자(operator)**로 이해한다.\n",
    "> - 행렬곱을 통해 벡터를 **다른 차원의 공간**으로 보낼 수 있다.\n",
    "> - 행렬곱을 통해 **패턴을 추출**할 수 있고 **데이터를 압축**할 수도 있다.\n",
    "\n",
    "#### Transpose matrix (전치행렬)\n",
    "\n",
    "> - 행과 열의 인덱스가 바뀐 행렬을 의미\n",
    "> - $X^T = (x_{ji})$\n",
    "\n",
    "#### Inverse matrix (역행렬)\n",
    "\n",
    "> - 어떤 행렬 $A$의 연산을 거꾸로 되돌리는 행렬을 **역행렬**이라 부르고 $A^{-1}$라 표가한다.\n",
    "> - **행과 열 숫자가 같고 행렬식(determinant)이 0이 아닌 경우**에만 계산할 수 있다.\n",
    "> - 만일 역행렬을 계산할 수 없다면 **유사역행렬(pseudo-inverse) 또는 무어-펜로즈(Moore-Penrose) 역행렬 $A^+$**을 이용한다.\n",
    "    - 행과 열의 숫자가 달라도 사용가능\n",
    "> - ```Python\n",
    "    np.linalg.inv(vector) # 역행렬\n",
    "    np.linalg.pinv(vector) # 유사역행렬\n",
    "    ```"
   ]
  }
 ],
 "metadata": {
  "kernelspec": {
   "display_name": "Python 3",
   "language": "python",
   "name": "python3"
  },
  "language_info": {
   "codemirror_mode": {
    "name": "ipython",
    "version": 3
   },
   "file_extension": ".py",
   "mimetype": "text/x-python",
   "name": "python",
   "nbconvert_exporter": "python",
   "pygments_lexer": "ipython3",
   "version": "3.8.5"
  }
 },
 "nbformat": 4,
 "nbformat_minor": 5
}
