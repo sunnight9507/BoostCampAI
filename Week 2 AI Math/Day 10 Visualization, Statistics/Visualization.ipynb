{
 "cells": [
  {
   "cell_type": "markdown",
   "id": "shared-entity",
   "metadata": {},
   "source": [
    "### Matplotlib\n",
    "\n",
    "> - pyplot 객체를 사용하여 데이터를 표시\n",
    "> - pyplot 객체에 그래프들을 쌓은 다음 flush\n",
    "> - 최대 단점 : argument를 kwargs로 받음\n",
    "> - 고정된 argument가 없어서 alt + tab으로 확인 어려움\n",
    "> - Graph는 원래 figure 객체에 생성됨\n",
    "> - pyplot 객체 사용시, 기본 figure에 그래프가 그려짐\n",
    "\n",
    "#### Figure & Axex\n",
    "\n",
    "> - Matplotlib는 Figure 안에 Axex로 구성\n",
    "> - Figure 위에 여러 개의 Axex를 생성\n",
    "\n",
    "#### Graph\n",
    "\n",
    "> - Scatter\n",
    "    - scatter 함수 사용, marker: scatter 모양 지정\n",
    "    - s : 데이터의 크기를 지정, 데이터의 크기 비교 가능\n",
    "> - Bar\n",
    "    - bar 함수 사용\n",
    "> - Histogram\n",
    "> - Boxplot\n",
    "\n",
    "### Seaborn\n",
    "\n",
    "> - 기존 matplotlib에 기본 설정을 추가\n",
    "> - 복잡한 그래프를 간단하게 만들 수 있는 wrapper\n",
    "> - 간단한 코드 + 예쁜 결과\n",
    "> - 손쉬운 설정으로 데이터 산출\n",
    "\n",
    "#### predefined plots\n",
    "\n",
    "> - Violinplot : boxplot에 distribution을 함께 표현\n",
    "> - Stripplot : scatter와 category 정보를 함께 표현\n",
    "> - Swarmplot : 분포와 함께 scatter를 함께 표현\n",
    "> - Pointplot : category별로 numeric의 평균, 신뢰구간 표시\n",
    "> - regplot : scatter + 선형함수를 함께 표시"
   ]
  }
 ],
 "metadata": {
  "kernelspec": {
   "display_name": "Python 3",
   "language": "python",
   "name": "python3"
  },
  "language_info": {
   "codemirror_mode": {
    "name": "ipython",
    "version": 3
   },
   "file_extension": ".py",
   "mimetype": "text/x-python",
   "name": "python",
   "nbconvert_exporter": "python",
   "pygments_lexer": "ipython3",
   "version": "3.8.5"
  }
 },
 "nbformat": 4,
 "nbformat_minor": 5
}
