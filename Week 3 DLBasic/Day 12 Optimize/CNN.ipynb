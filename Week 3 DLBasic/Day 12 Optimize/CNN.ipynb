{
 "cells": [
  {
   "cell_type": "markdown",
   "id": "timely-swedish",
   "metadata": {},
   "source": [
    "#### Convolution 연산\n",
    "\n",
    "> - 커널을 입력벡터 상에서 움직여가면서 선형모델과 합성함수가 적용되는 구조\n",
    "    - 모든 $i$에 대해 적용되는 커널은 $V$로 같고 커널의 사이즈만큼 $x$상에서 이동하면서 적용한다.\n",
    "> - $h_i = \\sigma(\\sum_{j=1}^k V_j x_{i+j-1})$\n",
    "> - $\\sigma$ : 활성함수\n",
    "> - $V$ : 가중치 행렬\n",
    "> - $k$ : 커널 사이즈\n",
    "\n",
    "> - 수학적인 의미는 신호(signal)를 **커널을 이용해 국소적으로 증폭 또는 감소**시켜서 정보를 추출 또는 필터링하는 것이다.\n",
    "> - 커널은 정의역 내에서 움직여도 변하지 않고(**translation invariant**) 주어진 신호에 **국소적(local)**으로 적용한다.\n",
    "\n",
    "> - Convolution 연산은 1차원뿐만 아니라 다양한 차원에서 계산 가능하다.\n",
    "> - 데이터의 성격에 따라 사용하는 커널이 달라진다.\n",
    "> - 1D-conv : $[f*g](i) = \\sum_{p=1}^d f(p)g(i + p)$\n",
    "> - 2D-conv : $[f*g](i, j) = \\sum_{p,q}f(p,q)g(i + p, j+q)$\n",
    "> - 3D-conv : $[f*g](i, j, k) = \\sum_{p,q,r}f(p,q)g(i+p,j+q,k+r)$\n",
    "> - $i,j,k$가 바뀌어도 커널 $f$의 값은 바뀌지 않는다.\n",
    "\n",
    "> - 2D-Conv 연산은 커널을 입력벡터 상에서 움직여가면서 선형모델과 합성함수가 적용되는 구조이다.\n",
    "> - 입력 크기를 $(H, W),$ 커널 크기를 $(K_H, K_W),$ 출력 크기를 $(O_H, O_W)$라 하면 출력 크기는 다음과 같이 계산한다.\n",
    "    - $O_H = H - K_H + 1$\n",
    "    - $O_W = W - K_W + 1$\n",
    "    - 가령 28x28 입력을 3x3 커널로 2D-Conv 연산을 하면 26x26이 된다.\n",
    "> - 채널이 여러개인 2차원 입력의 경우 2차원 Convolution을 채널 개수만큼 적용한다고 생각하면 된다.\n",
    "\n",
    "#### Convolution 연산의 역전파\n",
    "\n",
    "> - Convolution 연산은 커널이 모든 입력데이터에 공통으로 적용되기 때문에 역전파를 계산할 때도 convolution 연산이 나오게 된다.\n",
    "> - $\\frac{\\partial}{\\partial x}[f*g](x) = \\frac{\\partial}{\\partial x} \\int_{\\mathbb{R}^d} f(y)g(x-y)dy = \\int_{\\mathbb{R}^d}f(y) \\frac{\\partial g}{\\partial x}(x-y)dy = [f*g^\\prime](x)$\n",
    "> - $\\frac{\\partial \\mathcal{L}}{\\partial w_i} = \\sum_j \\delta_j x_{i+j-1}$"
   ]
  }
 ],
 "metadata": {
  "kernelspec": {
   "display_name": "Python 3",
   "language": "python",
   "name": "python3"
  },
  "language_info": {
   "codemirror_mode": {
    "name": "ipython",
    "version": 3
   },
   "file_extension": ".py",
   "mimetype": "text/x-python",
   "name": "python",
   "nbconvert_exporter": "python",
   "pygments_lexer": "ipython3",
   "version": "3.8.5"
  }
 },
 "nbformat": 4,
 "nbformat_minor": 5
}
