{
 "cells": [
  {
   "cell_type": "markdown",
   "id": "entitled-distributor",
   "metadata": {},
   "source": [
    "### 1.1 Weighted sum\n",
    "\n",
    "### 1.2 Pruning\n",
    "\n",
    "> - 얻는 것\n",
    "    - Inference speed\n",
    "    - Regularization (lessen model complexity) brings generalization\n",
    "> - 잃는 것\n",
    "    - Information loss\n",
    "    - The granularity affects the efficiency of hardware accelerator design\n",
    "    \n",
    "> - Pruning vs.Dropout\n",
    "\n",
    "### 1.3 여러 Pruning 방법들\n",
    "\n",
    "> - 종류\n",
    "    - what / how / when / how often\n",
    "    \n",
    "> - Iterative pruning\n",
    "\n",
    "### 1.4 Lottery ticket hypothesis\n",
    "\n",
    "> - Searching for Tickets: Iterative Magnitude Pruning\n",
    "> - Iterative Magnitude Pruning with Rewinding\n",
    "\n",
    "> - Lottery Ticket Hypothesis: weight rewinding"
   ]
  },
  {
   "cell_type": "code",
   "execution_count": null,
   "id": "digital-bruce",
   "metadata": {},
   "outputs": [],
   "source": []
  },
  {
   "cell_type": "code",
   "execution_count": null,
   "id": "intellectual-renewal",
   "metadata": {},
   "outputs": [],
   "source": []
  },
  {
   "cell_type": "code",
   "execution_count": null,
   "id": "czech-emerald",
   "metadata": {},
   "outputs": [],
   "source": []
  }
 ],
 "metadata": {
  "kernelspec": {
   "display_name": "Python 3",
   "language": "python",
   "name": "python3"
  },
  "language_info": {
   "codemirror_mode": {
    "name": "ipython",
    "version": 3
   },
   "file_extension": ".py",
   "mimetype": "text/x-python",
   "name": "python",
   "nbconvert_exporter": "python",
   "pygments_lexer": "ipython3",
   "version": "3.8.5"
  }
 },
 "nbformat": 4,
 "nbformat_minor": 5
}
