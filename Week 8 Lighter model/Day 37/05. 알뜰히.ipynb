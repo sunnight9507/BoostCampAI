{
 "cells": [
  {
   "cell_type": "markdown",
   "id": "turkish-bradford",
   "metadata": {},
   "source": [
    "### 1.1 압축 (Compression)\n",
    "\n",
    "> - 비손실 압축\n",
    "    - zip / wav / flac / png\n",
    "> - 손실 압축\n",
    "    - jpg / mp3 / mp4 / avi / gif\n",
    "    \n",
    "### 1.2 부호 (Coding)\n",
    "\n",
    "### 1.3 부호화 (Encoding)\n",
    "\n",
    "> - Inforamtion entropy\n",
    "\n",
    "### 1.4 압축률 (Compression rate)"
   ]
  }
 ],
 "metadata": {
  "kernelspec": {
   "display_name": "Python 3",
   "language": "python",
   "name": "python3"
  },
  "language_info": {
   "codemirror_mode": {
    "name": "ipython",
    "version": 3
   },
   "file_extension": ".py",
   "mimetype": "text/x-python",
   "name": "python",
   "nbconvert_exporter": "python",
   "pygments_lexer": "ipython3",
   "version": "3.8.5"
  }
 },
 "nbformat": 4,
 "nbformat_minor": 5
}
