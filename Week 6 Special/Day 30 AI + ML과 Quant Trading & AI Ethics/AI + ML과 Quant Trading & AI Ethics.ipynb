{
 "cells": [
  {
   "cell_type": "markdown",
   "id": "latest-belgium",
   "metadata": {},
   "source": [
    "### 1. AI + ML과 Quant Trading\n",
    "\n",
    "> - 퀀트 트레이딩을 구체적으로 배우는 시간이었습니다.\n",
    "> - 실제 투자에 관심이 많은데 현업에서 일하시는 분의 의견을 들어 많은 도움이 되었습니다.\n",
    "\n",
    "### 2. AI Ethics\n",
    "\n",
    "> - AI 개발자로서 꼭 인지해야 할 만한 정보를 배워가는 시간이었습니다.\n",
    "> - AI의 발전과 윤리와도 계속 고민해 봐야겠다는 생각을 가지게 되었습니다."
   ]
  }
 ],
 "metadata": {
  "kernelspec": {
   "display_name": "Python 3",
   "language": "python",
   "name": "python3"
  },
  "language_info": {
   "codemirror_mode": {
    "name": "ipython",
    "version": 3
   },
   "file_extension": ".py",
   "mimetype": "text/x-python",
   "name": "python",
   "nbconvert_exporter": "python",
   "pygments_lexer": "ipython3",
   "version": "3.8.5"
  }
 },
 "nbformat": 4,
 "nbformat_minor": 5
}
