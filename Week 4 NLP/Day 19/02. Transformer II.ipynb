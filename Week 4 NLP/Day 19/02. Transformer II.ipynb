{
 "cells": [
  {
   "cell_type": "markdown",
   "id": "capital-jerusalem",
   "metadata": {},
   "source": [
    "### Transformer (cont'd)\n",
    "\n",
    "#### Transformer: Multi-Head Attention\n",
    "\n",
    "> - The input word vectors are the queries, keys and values\n",
    "> - In other words, the word vectors themselves select each other\n",
    "> - **Problem of single attention**\n",
    "    - Only one way for words to interact with one another\n",
    "> - **Solution**\n",
    "    - Multi-head attention maps $Q, K, V$ into the $h$ number of lower-dimensional spaces via $W$ matrices\n",
    "> - hen apply attention, then concatenate outputs and pipe through linear layer \n",
    "> - $\\mathrm{MultiHead}(Q, K, V) = \\mathrm{Concat(head_1, \\dots, head_h)} W^O$\n",
    "> - $\\mathrm{where \\ head_i} = \\mathrm{Attention(QW_i^Q, KW_i^K, VW_i^V)}$"
   ]
  },
  {
   "cell_type": "code",
   "execution_count": null,
   "id": "dietary-thing",
   "metadata": {},
   "outputs": [],
   "source": []
  },
  {
   "cell_type": "code",
   "execution_count": null,
   "id": "quick-system",
   "metadata": {},
   "outputs": [],
   "source": []
  },
  {
   "cell_type": "code",
   "execution_count": null,
   "id": "saving-ethics",
   "metadata": {},
   "outputs": [],
   "source": []
  },
  {
   "cell_type": "code",
   "execution_count": null,
   "id": "natural-conditions",
   "metadata": {},
   "outputs": [],
   "source": []
  }
 ],
 "metadata": {
  "kernelspec": {
   "display_name": "Python 3",
   "language": "python",
   "name": "python3"
  },
  "language_info": {
   "codemirror_mode": {
    "name": "ipython",
    "version": 3
   },
   "file_extension": ".py",
   "mimetype": "text/x-python",
   "name": "python",
   "nbconvert_exporter": "python",
   "pygments_lexer": "ipython3",
   "version": "3.8.5"
  }
 },
 "nbformat": 4,
 "nbformat_minor": 5
}
