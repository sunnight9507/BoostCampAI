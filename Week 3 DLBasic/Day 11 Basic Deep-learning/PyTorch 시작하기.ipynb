{
 "cells": [
  {
   "cell_type": "markdown",
   "id": "seeing-yield",
   "metadata": {},
   "source": [
    "### PyTorch\n",
    "\n",
    "> - Numpy 구조를 가지는 Tensor 객체로 array 표현\n",
    "> - 자동미분을 지원하여 DL 연산을 지원\n",
    "> - 다양한 형태의 DL을 지원하는 함수와 모델을 지원함\n",
    "\n",
    "#### colab on VSCode \n",
    "\n",
    "> [Link](https://github.com/BoostcampAITech/lecture-note-python-basics-for-ai/blob/main/codes/pytorch/00_utils/colab%20on%20VSCode.md)\n",
    "> - 주의할 점\n",
    "    - **`C:/.ssh`** check\n",
    "    - ```Python\n",
    "        Host *.trycloudflare.com\n",
    "        HostName %h\n",
    "        User root\n",
    "        Port 22\n",
    "        ProxyCommand <PUT_THE_ABSOLUTE_CLOUDFLARE_PATH_HERE> access ssh --hostname %h \n",
    "        # 절대경로 cloudflared.exe 포함\n",
    "        # \\ -> \\\\\n",
    "    ```"
   ]
  }
 ],
 "metadata": {
  "kernelspec": {
   "display_name": "Python 3",
   "language": "python",
   "name": "python3"
  },
  "language_info": {
   "codemirror_mode": {
    "name": "ipython",
    "version": 3
   },
   "file_extension": ".py",
   "mimetype": "text/x-python",
   "name": "python",
   "nbconvert_exporter": "python",
   "pygments_lexer": "ipython3",
   "version": "3.8.5"
  }
 },
 "nbformat": 4,
 "nbformat_minor": 5
}
