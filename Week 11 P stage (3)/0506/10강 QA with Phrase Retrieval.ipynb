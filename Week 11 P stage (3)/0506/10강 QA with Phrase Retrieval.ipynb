{
 "cells": [
  {
   "cell_type": "markdown",
   "id": "million-energy",
   "metadata": {},
   "source": [
    "### 1. Phrase Retrieval in Open-Domain Question Answering\n",
    "\n",
    "#### Phrase Indexing\n",
    "#### Query-Agnostic Decomposition\n",
    "- Key Challenge: 어떻게 각 phrase를 vector space 상에 잘 mapping 할 수 있을까?\n",
    "\n",
    "### 2. Dense-sparse Representation for Phrases\n",
    "\n",
    "#### Dense vectors vs Sparse vectors\n",
    "- Dense vectors: 통사적, 의미적 정보를 담는 데 효과적\n",
    "- Sparse vectors: 어휘적 정보를 담는 데 효과적\n",
    "\n",
    "#### Dense representation\n",
    "- Dense vector를 만드는 방법\n",
    "    - Pre-trained LM (e.g. BERT)를 이용\n",
    "    - Start vector와 end vector를 재사용해서 메모리 사용량을 줄임\n",
    "    \n",
    "\n",
    "- Coherency vector\n",
    "    - phrase가 한 단위의 문장 구성 요소에 해당하는지를 나타냄\n",
    "    - 구를 형성하지 않는 phrase를 걸러내기 위해 사용함\n",
    "    - Start vector와 end vector를 이용하여 계산\n",
    "\n",
    "\n",
    "- Question embedding\n",
    "    - Question을 임베딩할 때는 [CLS] 토큰(BERT)을 활용\n",
    "    \n",
    "#### Sparse representation\n",
    "- Sparse vector를 만드는 방법\n",
    "    - 문맥화된 임베딩(contextualized embedding)을 활용하여 가장 관련성이 높은 n-gram으로 sparse vector 구성\n",
    "    \n",
    "#### Scalability Challenge"
   ]
  },
  {
   "cell_type": "markdown",
   "id": "wound-neighbor",
   "metadata": {},
   "source": [
    "-----\n",
    "\n",
    "### 시도한 것\n",
    "\n",
    "- Reader\n",
    "    - Data augmentation\n",
    "        - 재희님 Question Augmentation 적용 (역번역 활용하여 질문 데이터 증강) => \n",
    "\n",
    "### 새로 알게된 것\n",
    "\n",
    "### TODO\n",
    "\n",
    "- **Retireval**\n",
    "    - elasticsearch\n",
    "    - Sentence transformers\n",
    "    - Ensemble\n",
    "    \n",
    "\n",
    "- **Reader**\n",
    "    - 학습할 때 관련 context 같이 학습 시키기\n",
    "    - 수지님 Data 사용 (70000개)\n",
    "    - Span masking"
   ]
  }
 ],
 "metadata": {
  "kernelspec": {
   "display_name": "Python 3",
   "language": "python",
   "name": "python3"
  },
  "language_info": {
   "codemirror_mode": {
    "name": "ipython",
    "version": 3
   },
   "file_extension": ".py",
   "mimetype": "text/x-python",
   "name": "python",
   "nbconvert_exporter": "python",
   "pygments_lexer": "ipython3",
   "version": "3.8.5"
  }
 },
 "nbformat": 4,
 "nbformat_minor": 5
}
