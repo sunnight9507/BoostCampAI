{
 "cells": [
  {
   "cell_type": "markdown",
   "id": "civilian-vector",
   "metadata": {},
   "source": [
    "### 1. 캐글 그랜드마스터의 경진대회 노하우\n",
    "\n",
    "> - 캐글의 중요성 및 목적에 대해 배웠습니다.\n",
    "> - 머리로만 하는 것이 아니라 실천을 해야겠다고 느꼈다.\n",
    "> - 그랜드마스터라는 것이 노력의 결과임을 알게 되었다.\n",
    "\n",
    "### 2. Full Stack ML Engineer\n",
    "\n",
    "> - 완벽에 집중하다 보니 완성하지 못한 프로젝트가 많았다. 가볍게라도 완성을 시켜보자.\n",
    "> - 시작이 반이 아니라 80%다. 실천을 해보자."
   ]
  }
 ],
 "metadata": {
  "kernelspec": {
   "display_name": "Python 3",
   "language": "python",
   "name": "python3"
  },
  "language_info": {
   "codemirror_mode": {
    "name": "ipython",
    "version": 3
   },
   "file_extension": ".py",
   "mimetype": "text/x-python",
   "name": "python",
   "nbconvert_exporter": "python",
   "pygments_lexer": "ipython3",
   "version": "3.8.5"
  }
 },
 "nbformat": 4,
 "nbformat_minor": 5
}
