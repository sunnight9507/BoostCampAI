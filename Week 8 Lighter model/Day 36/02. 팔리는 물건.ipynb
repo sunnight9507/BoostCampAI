{
 "cells": [
  {
   "cell_type": "markdown",
   "id": "ranging-biology",
   "metadata": {},
   "source": [
    "### 1.1 정방향, 역방향\n",
    "\n",
    "### 1.2 AI 에서\n",
    "\n",
    "> - AI모델은 입력에 대해 정확한 출력을 보장하지 않음\n",
    "> - Underspecification problem\n",
    "\n",
    "### 1.3 On-device AI 에서\n",
    "\n",
    "> - Model size is getting bigger and bigger\n",
    "> - The need for lightweight device\n",
    "    - Real-time customer engagement\n",
    "    - Reliability\n",
    "    - Sensor data analysis and IoT\n",
    "    - Highly responsive\n",
    "    - Security and privacy\n",
    "    \n",
    "### 1.4 On-device AI Solution 사례 (Nota)\n",
    "\n",
    "> - No 오타 for mobile device users\n",
    "> - Retail\n",
    "> - Security & Surveilance\n",
    "> - Intelligent Transportation System (ITS)"
   ]
  }
 ],
 "metadata": {
  "kernelspec": {
   "display_name": "Python 3",
   "language": "python",
   "name": "python3"
  },
  "language_info": {
   "codemirror_mode": {
    "name": "ipython",
    "version": 3
   },
   "file_extension": ".py",
   "mimetype": "text/x-python",
   "name": "python",
   "nbconvert_exporter": "python",
   "pygments_lexer": "ipython3",
   "version": "3.8.5"
  }
 },
 "nbformat": 4,
 "nbformat_minor": 5
}
