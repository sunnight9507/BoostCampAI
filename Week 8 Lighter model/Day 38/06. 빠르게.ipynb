{
 "cells": [
  {
   "cell_type": "markdown",
   "id": "macro-cowboy",
   "metadata": {},
   "source": [
    "### 1.1 Acceleration\n",
    "\n",
    "> - How CPUs are Designed and Built\n",
    "    - Bandwidth : how much data over time\n",
    "    - Throughput : the time it takes\n",
    "    - Latency : the actual amount of data\n",
    "    \n",
    "### 1.2 Hardwares (chip)\n",
    "\n",
    "> - decrease latency and increase throughput\n",
    "\n",
    "> - CPU\n",
    "    - Small models\n",
    "    - Small datasets\n",
    "    - Useful for design sapce exploration\n",
    "> - GPU\n",
    "    - Medium-to-large models, datasets\n",
    "    - Image, video processing\n",
    "    - Application on CUDA or OpenCL\n",
    "> - TPU\n",
    "    - Matrix computations\n",
    "    - Dense vector processing\n",
    "    - No custom TensorFlow operations\n",
    "> - IPU\n",
    "    - Intelligence Processing Unit\n",
    "    \n",
    "> - ARM on IoT (Mobile) device\n",
    "    - 전 세계 IT 모바일 기기의 95%가 ARM 설계도의 채택한 반도체를 탑재\n",
    "    \n",
    "### 1.3 Compression & acceleration\n",
    "\n",
    "> - Compression : Space complexity / Software\n",
    "> - Acceleration : Time colplexity / Hardware\n",
    "\n",
    "> - Hardware (chip)의 성능이란 많은 경우 acceleration에 초점을 둠\n",
    "\n",
    "> - Hardware-software co-disign w.r.t model compression\n",
    "\n",
    "### 1.4 Deep learning compiler\n",
    "\n",
    "> - The overview of commonly adopted design architecture of DL compilers\n",
    "    - Input format of DL models\n",
    "    - Compiler frontend\n",
    "    - Compiler backend\n",
    "    - More and more Accelerators\n",
    "    \n",
    "> - Locality of reference\n",
    "    - Temporal locality\n",
    "    - Spatial loaclity\n",
    "    - Branch loaclity\n",
    "    - Equidistant locality"
   ]
  }
 ],
 "metadata": {
  "kernelspec": {
   "display_name": "Python 3",
   "language": "python",
   "name": "python3"
  },
  "language_info": {
   "codemirror_mode": {
    "name": "ipython",
    "version": 3
   },
   "file_extension": ".py",
   "mimetype": "text/x-python",
   "name": "python",
   "nbconvert_exporter": "python",
   "pygments_lexer": "ipython3",
   "version": "3.8.5"
  }
 },
 "nbformat": 4,
 "nbformat_minor": 5
}
