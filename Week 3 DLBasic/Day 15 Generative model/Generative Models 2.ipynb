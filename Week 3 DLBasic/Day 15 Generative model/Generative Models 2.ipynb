{
 "cells": [
  {
   "cell_type": "markdown",
   "id": "twenty-coalition",
   "metadata": {},
   "source": [
    "#### Variational Auto-encoder\n",
    "\n",
    "> #### Variational inference(VI)\n",
    "> - The goal of VI is to optimize the **varational distribution** that best matches the **posterior distribution**\n",
    "    - **posterior distribution** : $p_{\\theta}(z|x)$\n",
    "    - **variational distribution** : $q_{\\phi}(z|x)$\n",
    "> - In particular, we want to find the **variational distribution** that minimizes the KL divergence between the true posterior.\n",
    "    \n",
    "\n",
    "\n"
   ]
  },
  {
   "cell_type": "markdown",
   "id": "mobile-maximum",
   "metadata": {},
   "source": [
    "#### Latent Variable Models"
   ]
  },
  {
   "cell_type": "code",
   "execution_count": null,
   "id": "artificial-cuisine",
   "metadata": {},
   "outputs": [],
   "source": []
  }
 ],
 "metadata": {
  "kernelspec": {
   "display_name": "Python 3",
   "language": "python",
   "name": "python3"
  },
  "language_info": {
   "codemirror_mode": {
    "name": "ipython",
    "version": 3
   },
   "file_extension": ".py",
   "mimetype": "text/x-python",
   "name": "python",
   "nbconvert_exporter": "python",
   "pygments_lexer": "ipython3",
   "version": "3.8.5"
  }
 },
 "nbformat": 4,
 "nbformat_minor": 5
}
