{
 "cells": [
  {
   "cell_type": "markdown",
   "id": "scenic-harassment",
   "metadata": {},
   "source": [
    "### 조건부 확률이란?\n",
    "\n",
    "> - 베이즈 통계학을 이해하기 위해서는 조건부확률의 개념을 이해해야 한다.\n",
    "> - $P(A \\cap B) = P(B)P(A|B)$\n",
    "    - 조건부 확률 $P(A | B)$은 사건 $B$가 일어난 상황에서 사건 $A$가 발생할 확률을 의미한다.\n",
    "> - 베이즈 정리는 조건부확률을 이용하여 **정보를 갱신하는 방법**을 알려준다.\n",
    "> - $P(B | A) = \\frac{P(A \\cap B)}{P(A)} = P(B)\\frac{P(A|B)}{P(A)}$\n",
    "    - $A$라는 새로운 정보가 주어졌을 떄 $P(B)$로부터 $P(B|A)$를 계산하는 방법을 제공한다.\n",
    "    \n",
    "#### 베이즈 정리 : 예제\n",
    "\n",
    "> - $P(\\theta | \\mathcal{D}) = P(\\theta)\\frac{P(\\mathcal{D}|\\theta)}{P(\\mathcal{D})}$\n",
    "    - 사후확률(posterior) = 사전확률(prior)$\\frac{가능도(likelihood)}{Evidence}$\n",
    "> - COVID-99의 **발병률이 10%**로 알려져있다. COVID-99에 **실제로 걸렸을 때 검진될 확률은 99%**, 실제로 걸리지 않았을 때 **오검진될 확률이 1%**라고 할 때, 어떤 사람이 **양성 판정이 나왔을 때 COVID-99에 감염되었을 확률은?**\n",
    "    - 사전확률, 민감도(Recall), 오탐율(False alarm)을 가지고 정밀도(Precision)를 계산하는 문제이다.\n",
    "> - 답 : 91.6%\n",
    "\n",
    "#### 베이즈 정리를 통한 정보의 갱신\n",
    "\n",
    "> - 베이즈 정리를 통해 새로운 데이터가 들어왔을 때 앞서 계산한 사후확률을 사전확률로 사용하여 **갱신된 사후확률을 계산**할 수 있다.\n",
    "> - Ex) 앞서 양성을 받은 사람이 두 번째 검진에도 양성이 나오면 COVID-99에 걸렸을 확률은?\n",
    "\n",
    "#### 조건부 확률 $\\rightarrow$ 인과관계?\n",
    "\n",
    "> - 조건부 확률은 유용한 통계적 해석을 제공하지만 **인과관계(causality)**\n",
    "    - 데이터가 많아져도 조건부 확률만 가지고 인과관계를 추론하는 것은 불가능하다.\n",
    "> - 인과관계는 **데이터 분포의 변화에 강건한 예측모형**을 만들 때 필요하다.\n",
    "    - 단, 인과관계만으로는 높은 예측 정확도를 담보하기는 어렵다.\n",
    "> - 인과관계를 알아내기 위해서는 **중첩요인(confounding factor)의 효과를 제거**하고 원인에 해당하는 변수만의 인과관계를 계산해야 한다.\n",
    "    - 중첩요인을 제거하지 않으면 가짜 연관성(spurious correlation)이 나온다.\n",
    "    - 조정(intervention) 효과를 통해 중첩요인의 개입을 제거할 수 있다."
   ]
  }
 ],
 "metadata": {
  "kernelspec": {
   "display_name": "Python 3",
   "language": "python",
   "name": "python3"
  },
  "language_info": {
   "codemirror_mode": {
    "name": "ipython",
    "version": 3
   },
   "file_extension": ".py",
   "mimetype": "text/x-python",
   "name": "python",
   "nbconvert_exporter": "python",
   "pygments_lexer": "ipython3",
   "version": "3.8.5"
  }
 },
 "nbformat": 4,
 "nbformat_minor": 5
}
