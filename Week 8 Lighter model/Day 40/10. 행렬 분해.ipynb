{
 "cells": [
  {
   "cell_type": "markdown",
   "id": "lesser-viking",
   "metadata": {},
   "source": [
    "### 1.1 Three maps\n",
    "\n",
    "> - Map 1: Matrix (Tensor) is a data modeling tool\n",
    "> - Map 2: Matrix (Tensor) is a linear transformation (map)\n",
    "> - Map 3: Terminology\n",
    "\n",
    "> - Guassian elimination\n",
    "\n",
    "### 1.2 Kernel method\n",
    "\n",
    "> - Kernel means a central or essential part\n",
    "> - Low-rank tensor approximation\n",
    "\n",
    "### 1.3 Matrix decompostion\n",
    "\n",
    "> - Eigenvalue Decompostion\n",
    "> - Singular Value Decomposition (SVD): a generalization (nm case) of EVD\n",
    "> - (Truncated) Singular Value Decomposition => Principal Component Analysis (PCA)\n",
    "> - Truncated SVD\n",
    "> - Canonical Polyadic Decomposition (CPD)\n",
    "> - Non-negative Matrix Factorization (NMF)\n",
    "> - Tucker Decomposition (TKD)\n",
    "\n",
    "### 1.4 Tensor decompostion\n",
    "\n",
    "> - CP (Canonical Polyadic) decomposition\n",
    "    - SVD -> CPD -> Tucker D -> Network decoupling\n",
    "    - CP for simultaneous analysis of neurons, time, and trial\n",
    "    \n",
    "### 1.5 Tensor decomposition on network compression\n",
    "\n",
    "> - MobileNet V2: Inverted Residual + Linear Bottleneck"
   ]
  }
 ],
 "metadata": {
  "kernelspec": {
   "display_name": "Python 3",
   "language": "python",
   "name": "python3"
  },
  "language_info": {
   "codemirror_mode": {
    "name": "ipython",
    "version": 3
   },
   "file_extension": ".py",
   "mimetype": "text/x-python",
   "name": "python",
   "nbconvert_exporter": "python",
   "pygments_lexer": "ipython3",
   "version": "3.8.5"
  }
 },
 "nbformat": 4,
 "nbformat_minor": 5
}
