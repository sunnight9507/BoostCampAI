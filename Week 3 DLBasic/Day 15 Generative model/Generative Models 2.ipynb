{
 "cells": [
  {
   "cell_type": "markdown",
   "id": "endangered-manufacturer",
   "metadata": {},
   "source": [
    "#### Variational Auto-encoder\n",
    "\n",
    "> #### Variational inference(VI)\n",
    "> - The goal of VI is to optimize the **varational distribution** that best matches the **posterior distribution**\n",
    "    - **posterior distribution** : $p_{\\theta}(z|x)$\n",
    "    - **variational distribution** : $q_{\\phi}(z|x)$\n",
    "> - In particular, we want to find the **variational distribution** that minimizes the KL divergence between the true posterior.\n",
    "    \n",
    "> - $ \\text{In} p_\\theta (D) = \\mathbb{E}_{q_\\theta} (z|x) [\\text{In} p_\\theta (x)] = \\mathbb{E}_{q_\\phi} (z|x) [\\text{In} \\frac{p_\\theta (x, z)}{q_\\phi (z|x)}] + D_{KL} (q_\\theta(z|x) || p_\\theta(z|x)))$ = ELBO + Objective\n",
    "> - VI minimizes the(intractable) **objective** via maximizing **ELBO**.\n",
    "> - Importantly, **ELBO** is a **tractable** quantity\n",
    "\n",
    "> - **ELBO** can further be decomposed into this\n",
    "> - $\\mathbb{E}_{q_\\phi} (z|x) [\\text{In} \\frac{p_\\theta (x, z)}{q_\\phi (z|x)}] = \\mathbb{E}_{q_\\phi} [p_\\theta (z|x)] - D_{KL} (q_\\phi(z|x) || p_\\theta(z|x))$ = Reconstruction Term - Prior Fitting Term\n",
    "    - Reconstruction Term : This term minimizes the reconstruction loss of an auto-encoder\n",
    "    - Prior Fitting Term : This term enforces the latent distribution to be similar to the prior distribution\n",
    "    \n",
    "> #### Key limitation\n",
    "> - It is an **intractable** model (hard to evaluate likelihood)\n",
    "> - The prior fitting term must be differentiable, hence it is hard to use diverse latent prior distributions\n",
    "> - In most cases, we use an isotropic Gaussian\n",
    "    - $D_{KL} (q_\\phi(z|x) || N(0, 1)) = \\frac{1}{2} \\sum_{i=1}{D} (\\sigma_{z_i}^2 + \\mu_{z_i}^2 - \\text{In}(\\sigma_{z_i}^2) - 1)$\n",
    "    \n",
    "#### Adversarial Auto-encoder\n",
    "\n",
    "> - It allows us to use any arbitrary latent distributions that we can sample\n",
    "\n",
    "#### Generative Adversarial Network\n",
    "\n",
    "> $\\underset{G}{\\min} \\underset{D}{\\max} V(D, G) = \\mathbb{E}_{\\mathbf{x} \\thicksim p_{\\text{data}} (\\mathbf{x})} [\\log{D(\\mathbf{x})}] + \\mathbb{E}_{\\mathbf{z} \\thicksim p_{\\mathbf{z}} (\\mathbf{z})} [\\log{1 - D(G(\\mathbf{z}))}]$\n",
    "\n",
    "> #### GAN Objective\n",
    "> - A two player minimax game between **generator** and **discriminator**"
   ]
  }
 ],
 "metadata": {
  "kernelspec": {
   "display_name": "Python 3",
   "language": "python",
   "name": "python3"
  },
  "language_info": {
   "codemirror_mode": {
    "name": "ipython",
    "version": 3
   },
   "file_extension": ".py",
   "mimetype": "text/x-python",
   "name": "python",
   "nbconvert_exporter": "python",
   "pygments_lexer": "ipython3",
   "version": "3.8.5"
  }
 },
 "nbformat": 4,
 "nbformat_minor": 5
}
