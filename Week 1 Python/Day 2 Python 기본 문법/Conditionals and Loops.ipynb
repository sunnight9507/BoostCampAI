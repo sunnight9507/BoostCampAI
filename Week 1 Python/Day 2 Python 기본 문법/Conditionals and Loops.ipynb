{
 "cells": [
  {
   "cell_type": "markdown",
   "id": "billion-sound",
   "metadata": {},
   "source": [
    "## Conditionals and Loops\n",
    "\n",
    "### Condition\n",
    "\n",
    "> - 조건에 따라 특정한 동작을 하게하는 명령어\n",
    "> - 조건문은 **조건을 나타내는 기준**과 **실행하야 할 명령**으로 구성됨\n",
    "> - 조건의 참, 거짓에 따라 실행해야 할 명령이 수행되거나 되지 않음\n",
    "\n",
    "#### Ternary operators (삼항 연산자)\n",
    "\n",
    "> - 조건문을 사용하여 참일 경우와 거짓인 경우의 결과를 한줄에 표현\n",
    "> - ```Python\n",
    "    True if value % 2 == 0 else False\n",
    "\n",
    "### Loops\n",
    "\n",
    "> - 정해진 동작을 반복적으로 수행하게 하는 명령문\n",
    "> - 반복문은 **반복 시작 조건, 종료 조건, 수행 명령**으로 구성됨\n",
    "> - 반복문 역시 반복 구문은 **들여쓰기**와 **block**으로 구분됨\n",
    "\n",
    "### Debugging\n",
    "\n",
    "> - 코드의 오류를 발견하여 수정하는 과정\n",
    "> - 오류의 '원인'을 알고 '해결책'을 찾아야 함\n",
    "> - **문법적 에러**를 찾기 위한 에러 메시지 분석\n",
    "> - **논리적 에러**를 찾기 위한 테스트도 중요"
   ]
  }
 ],
 "metadata": {
  "kernelspec": {
   "display_name": "Python 3",
   "language": "python",
   "name": "python3"
  },
  "language_info": {
   "codemirror_mode": {
    "name": "ipython",
    "version": 3
   },
   "file_extension": ".py",
   "mimetype": "text/x-python",
   "name": "python",
   "nbconvert_exporter": "python",
   "pygments_lexer": "ipython3",
   "version": "3.8.5"
  }
 },
 "nbformat": 4,
 "nbformat_minor": 5
}
