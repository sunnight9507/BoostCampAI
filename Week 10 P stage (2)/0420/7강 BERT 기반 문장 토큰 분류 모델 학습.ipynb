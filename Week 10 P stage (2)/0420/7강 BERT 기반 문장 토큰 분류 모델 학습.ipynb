{
 "cells": [
  {
   "cell_type": "markdown",
   "id": "dirty-jaguar",
   "metadata": {},
   "source": [
    "### 1. 문장 토큰 분류 task 소개\n",
    "\n",
    "#### 1.1 문장 토큰 관계 분류 task\n",
    "\n",
    "- 주어진 문장의 각 **token**이 어떤 범주에 속하는지 분류하는 task\n",
    "- Named Entity Recognition (NER)\n",
    "    - 개채명 인식은 문맥을 파악해서 인명, 기관명, 지명 등과 같은 문장 또는 문서에서 특정한 의미를 가지고 있는 단어 또는 어구(개체) 등을 인식하는 과정을 의미한다.\n",
    "    - 주요 라이브러리: Pororo\n",
    "\n",
    "- Part-of-speech tagging (POS TAGGING)\n",
    "    - 품사란 단어를 문법적 성질의 공통성에 따라 언어학자들이 몇 갈래로 묶어 놓은 것이다.\n",
    "    - 품사 태깅은 주어진 문장의 각 성분에 대하여 가장 알맞는 품사를 태깅하는 것을 의미한다.\n",
    "    \n",
    "#### 1.2 문장 token 분류를 위한 데이터\n",
    "\n",
    "- kor_ner\n",
    "    - 한국해양대학교 자연어 처리 연구실에서 공개한 한국어 NER 데이터셋\n",
    "    - 일반적으로, NER 데이터셋은 pos tagging도 함께 존재\n",
    "    - B: Begin (개체명의 시작)\n",
    "    - I: Inside (내부)\n",
    "    - O: Outside (다루지 않는 개채명)\n",
    "\n",
    "### 2. 문장 토큰 분류 모델 학습 실습\n",
    "\n",
    "#### 2.1 문장 토큰 분류 모델 학습\n",
    "\n",
    "- NER fine-tuning with BERT\n",
    "- 주의할 점\n",
    "    - 형태소 단위의 토큰을 **음절 단위**의 토큰으로 분해하고, Entity tag 역시 음절 단위로 매핑시켜 주어야 한다.\n"
   ]
  },
  {
   "cell_type": "markdown",
   "id": "skilled-occupation",
   "metadata": {},
   "source": [
    "### 새로 학습한 내용\n",
    "\n",
    "- **`globals()`**\n",
    "    - 동적으로 변수 생성\n",
    "    - dictionary 형태로 생성\n",
    "\n",
    "\n",
    "### 시도한 것\n",
    "\n",
    "- 자체 휴식...\n",
    "\n",
    "### TODO\n",
    "\n",
    "- entity 강조\n",
    "    - 스폐셜 토큰 추가 X (추천 방법)\n",
    "    - 스폐셜 토큰 추가\n",
    "- data mask 씌우기\n",
    "- 데이터를 임의로 자르고 순서 바꾸기\n",
    "    - ex) 이순신은 조선 중기의 무신이다.\n",
    "    - ex) 조선 중기의 무신이다. 이순신은\n",
    "\n",
    "\n",
    "- XLM-RoBERTa tokenize 결과 확인\n",
    "    - word piece or 음절"
   ]
  }
 ],
 "metadata": {
  "kernelspec": {
   "display_name": "Python 3",
   "language": "python",
   "name": "python3"
  },
  "language_info": {
   "codemirror_mode": {
    "name": "ipython",
    "version": 3
   },
   "file_extension": ".py",
   "mimetype": "text/x-python",
   "name": "python",
   "nbconvert_exporter": "python",
   "pygments_lexer": "ipython3",
   "version": "3.8.5"
  }
 },
 "nbformat": 4,
 "nbformat_minor": 5
}
