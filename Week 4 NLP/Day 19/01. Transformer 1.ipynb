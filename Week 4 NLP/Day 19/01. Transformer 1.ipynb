{
 "cells": [
  {
   "cell_type": "markdown",
   "id": "minus-richmond",
   "metadata": {},
   "source": [
    "### Transformer\n",
    "\n",
    "#### Transformer : High-level view\n",
    "\n",
    "> - Attention is all you need\n",
    "    - No more RNN or CNN modules\n",
    "\n",
    "#### Transformer: Scaled Dot-Product Attention\n",
    "\n",
    "> - Inputs: a query $q$ and a set of key-value $(k, v)$ pairs to an output\n",
    "> - **`Query`, `key`, `value`**, and output is all vectors\n",
    "> - Output is weighted sum of values\n",
    "> - Weight of each value is computed by an inner product of query and corresponding key\n",
    "> - Queries and keys have same dimensionality $d_k$, and dimensionality of value is $d_v$\n",
    "> - $A(q, K, V) = \\sum_i \\frac{\\exp{(q \\cdot k_i)}}{\\sum_j \\exp{(q \\cdot k_j)}} v_i$\n",
    "> - $\\qquad \\qquad \\Downarrow$\n",
    "> - $A(Q, K, V) = \\mathrm{softmax}(QK^T)V$\n",
    "> - $(|Q| \\times d_k) \\times (d_k \\times |K|) \\times (|V| \\times d_v) = (|Q| \\times d_v)$\n",
    "> - 실제 Transformer 구현 상으로는 동이한 shape로 mapping된 Q, K, V가 사용되어 각 matrix의 shape은 모두 동일\n",
    "\n",
    "> - Problem\n",
    "    - As $d_k$ gets large, the variance of $q^Tk$ increases\n",
    "    - Some values inside the softmax get large\n",
    "    - The softmax gets very peaked\n",
    "    - Hence, its gradient gets smaller\n",
    "> - Solution\n",
    "    - Scaled by the length of query / key vectors:\n",
    "    - $A(Q, K, V) = \\mathrm{softmax}(\\frac{QK^T}{\\sqrt{d_k}})V$"
   ]
  }
 ],
 "metadata": {
  "kernelspec": {
   "display_name": "Python 3",
   "language": "python",
   "name": "python3"
  },
  "language_info": {
   "codemirror_mode": {
    "name": "ipython",
    "version": 3
   },
   "file_extension": ".py",
   "mimetype": "text/x-python",
   "name": "python",
   "nbconvert_exporter": "python",
   "pygments_lexer": "ipython3",
   "version": "3.8.5"
  }
 },
 "nbformat": 4,
 "nbformat_minor": 5
}
