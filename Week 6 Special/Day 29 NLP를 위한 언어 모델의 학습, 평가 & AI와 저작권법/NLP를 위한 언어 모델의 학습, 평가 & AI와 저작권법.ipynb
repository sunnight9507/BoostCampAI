{
 "cells": [
  {
   "cell_type": "markdown",
   "id": "offensive-cooper",
   "metadata": {},
   "source": [
    "### 1. NLP를 위한 언어 모델의 학습, 평가\n",
    "\n",
    "> - 언어 모델의 과정을 알 수 있었습니다.\n",
    "> - 언어 모델의 평가하는 방법에 대해 배웠습니다.\n",
    "\n",
    "### 2. AI와 저작권법\n",
    "\n",
    "> - 저작권에 관심이 없었는데 이번 기회를 통해 알게된 시간이었습니다.\n",
    "> - AI에서도 저작권의 중요함을 알게되었습니다."
   ]
  }
 ],
 "metadata": {
  "kernelspec": {
   "display_name": "Python 3",
   "language": "python",
   "name": "python3"
  },
  "language_info": {
   "codemirror_mode": {
    "name": "ipython",
    "version": 3
   },
   "file_extension": ".py",
   "mimetype": "text/x-python",
   "name": "python",
   "nbconvert_exporter": "python",
   "pygments_lexer": "ipython3",
   "version": "3.8.5"
  }
 },
 "nbformat": 4,
 "nbformat_minor": 5
}
