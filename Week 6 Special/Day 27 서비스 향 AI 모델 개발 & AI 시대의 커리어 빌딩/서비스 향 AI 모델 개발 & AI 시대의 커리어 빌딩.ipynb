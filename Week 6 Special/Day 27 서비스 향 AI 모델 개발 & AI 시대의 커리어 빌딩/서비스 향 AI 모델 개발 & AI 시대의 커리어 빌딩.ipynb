{
 "cells": [
  {
   "cell_type": "markdown",
   "id": "enclosed-prediction",
   "metadata": {},
   "source": [
    "### 1. 서비스 향 AI 모델 개발\n",
    "\n",
    "> - 현업에서 AI가 어떻게 사용하는지 배울 수 있었다.\n",
    "> - 모델 요구사항에 대해 배웠다.\n",
    "> - 백엔드쪽으로도 역량이 필요함을 느꼈다.\n",
    "\n",
    "### 2. AI 시대의 커리어 빌딩\n",
    "\n",
    "> - 실제 AI 관련 업무를 하는 개발자의 하루를 알 수 있었다.\n",
    "> - 각 포지션별 필요 역량을 알 수 있었다."
   ]
  }
 ],
 "metadata": {
  "kernelspec": {
   "display_name": "Python 3",
   "language": "python",
   "name": "python3"
  },
  "language_info": {
   "codemirror_mode": {
    "name": "ipython",
    "version": 3
   },
   "file_extension": ".py",
   "mimetype": "text/x-python",
   "name": "python",
   "nbconvert_exporter": "python",
   "pygments_lexer": "ipython3",
   "version": "3.8.5"
  }
 },
 "nbformat": 4,
 "nbformat_minor": 5
}
