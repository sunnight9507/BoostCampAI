{
 "cells": [
  {
   "cell_type": "markdown",
   "id": "numerous-american",
   "metadata": {},
   "source": [
    "### 1.1 Fixed point, floating point\n",
    "\n",
    "> - fixed-point\n",
    "    - Pros\n",
    "        - It can exactly represent decimal fractions\n",
    "        - Addition and subtraction introduce no error\n",
    "        - Size and Power Consumption\n",
    "        - Price/cost is better\n",
    "    - Cons\n",
    "        - The dynamic range of values is much less\n",
    "        - Multiplication is rather more problematic\n",
    "        \n",
    "> - Precision & accuracy\n",
    "    - precision : variance\n",
    "    - accuracy : bias\n",
    "    \n",
    "### 1.2 Quantization이란\n",
    "\n",
    "> - Quantization is primarily a technique to speed up inference (only the forward pass is supported for quantized operators)\n",
    "> - Reduction in the model size\n",
    "> - Reduction in memory bandwidth requirements\n",
    "\n",
    "> - Affine quantization\n",
    "\n",
    "### 1.3 여러 quantization들\n",
    "\n",
    "> - 종류\n",
    "    - What / How / How much / When\n",
    "    - Dynamic quantization\n",
    "        - weights are quantized ahead of time but the activations are dynamically quantized during inference\n",
    "    - Static quantization\n",
    "        - Static quantization is also known as Post Training Quantization or PTQ\n",
    "    - Quantization aware training\n",
    "        - During training, all calculations are done in floating point, with fake quant modules modeling the effects of quantization by clamping and rounding to simulate the effects of INT8"
   ]
  }
 ],
 "metadata": {
  "kernelspec": {
   "display_name": "Python 3",
   "language": "python",
   "name": "python3"
  },
  "language_info": {
   "codemirror_mode": {
    "name": "ipython",
    "version": 3
   },
   "file_extension": ".py",
   "mimetype": "text/x-python",
   "name": "python",
   "nbconvert_exporter": "python",
   "pygments_lexer": "ipython3",
   "version": "3.8.5"
  }
 },
 "nbformat": 4,
 "nbformat_minor": 5
}
