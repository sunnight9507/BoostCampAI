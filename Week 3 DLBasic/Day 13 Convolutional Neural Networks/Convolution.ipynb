{
 "cells": [
  {
   "cell_type": "markdown",
   "id": "certain-estate",
   "metadata": {},
   "source": [
    "### Convolution\n",
    "\n",
    "> - Continuous convolution\n",
    "> - $(f*g)(t) = \\int f(\\tau)g(t-\\tau)d\\tau = \\int f(t-\\tau)g(t)d\\tau$\n",
    "\n",
    "> - Discrete convolution\n",
    "> - $(f*g)(t) = \\sum_{i=-\\infty}^{\\infty} f(i)g(t-i) = \\sum_{i=-\\infty}^{\\infty} f(t-i)g(i)$\n",
    "\n",
    "> - 2D image convolution\n",
    "> - $(I * K)(i, j) = \\sum_m \\sum_n I(m,n)K(i-m, j-n) = \\sum_m \\sum_n I(i-m, i-n) K(m,n)$\n",
    "> - $I$ : Image 공간\n",
    "> - $K$ : 적용하고자 하는 filter\n",
    "\n",
    "#### Convolution Neural Networks\n",
    "\n",
    "> - convolution layer, pooling layer, fully connected layer로 구성되어 있다.\n",
    "    - convolution, pooling : feature extraction\n",
    "    - fully connected : decision making\n",
    "    \n",
    "> #### Stride\n",
    "> - convolution filter를 얼마나 연산할지에 대한 값\n",
    "> - 값이 커지면 커질수록 크기가 줄어듬\n",
    "\n",
    "> #### Padding\n",
    "> - 가장 자리에 임의의 값을 추가하는 것\n",
    "> - 주로 0으로 채움 (zero padding)\n",
    "\n",
    "> #### 1x1 Convolution\n",
    "> - Why? Dimension reduction\n",
    "> - Convolution layer를 깊게 쌓으면서 parameter수를 줄일수 있다. (특히 채널수)\n",
    "> - Ex) bottleneck architecture"
   ]
  }
 ],
 "metadata": {
  "kernelspec": {
   "display_name": "Python 3",
   "language": "python",
   "name": "python3"
  },
  "language_info": {
   "codemirror_mode": {
    "name": "ipython",
    "version": 3
   },
   "file_extension": ".py",
   "mimetype": "text/x-python",
   "name": "python",
   "nbconvert_exporter": "python",
   "pygments_lexer": "ipython3",
   "version": "3.8.5"
  }
 },
 "nbformat": 4,
 "nbformat_minor": 5
}
