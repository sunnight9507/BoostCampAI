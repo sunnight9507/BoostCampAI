{
 "cells": [
  {
   "cell_type": "markdown",
   "id": "spare-cornwall",
   "metadata": {},
   "source": [
    "### 1. Extraction-based MRC\n",
    "\n",
    "#### Extraction-based MRC 문제 정의\n",
    "- 질문의 답변이 항상 주어진 지문내에 span으로 존재\n",
    "\n",
    "#### Extraction-based MRC 평가 방법\n",
    "- Exact Match (EM) Score\n",
    "    - 예측값과 정답이 캐릭터 단위로 완전히 똑같을 경우에만 1점 부여\n",
    "    - 하나라도 다른 경우 0점\n",
    "    \n",
    "- F1 Score\n",
    "    - 예측값과 정답의 overlap을 비율로 계산\n",
    "    - 0점과 1점사이의 부분점수를 받을 수 있음\n",
    "    \n",
    "### 2. Pre-processing\n",
    "\n",
    "#### Tokenization\n",
    "- 텍스트를 작은 단위(Token)로 나누는 것\n",
    "\n",
    "#### Attention Mask\n",
    "- 입력 시퀀스 중에서 attention을 연산할 때 무시할 토큰을 표시\n",
    "- 보통 [PAD]와 같은 의미가 없는 특수토큰을 무시하기 위해 사용\n",
    "\n",
    "#### Token Type IDs\n",
    "- 입력이 2개 이상의 시퀀스일 때, 각각에게 ID를 부여하여 모델이 구분해서 해석하도록 유도\n",
    "\n",
    "### 3. Fine-tuning\n",
    "\n",
    "### 4. Post-processing\n",
    "\n",
    "#### 불가능한 답 제거하기\n",
    "- End position이 start position보다 앞에 있는 경우\n",
    "- context를 벗어난 경우\n",
    "- max_answer_length 보다 길이가 더 긴 경우"
   ]
  }
 ],
 "metadata": {
  "kernelspec": {
   "display_name": "Python 3",
   "language": "python",
   "name": "python3"
  },
  "language_info": {
   "codemirror_mode": {
    "name": "ipython",
    "version": 3
   },
   "file_extension": ".py",
   "mimetype": "text/x-python",
   "name": "python",
   "nbconvert_exporter": "python",
   "pygments_lexer": "ipython3",
   "version": "3.8.5"
  }
 },
 "nbformat": 4,
 "nbformat_minor": 5
}
