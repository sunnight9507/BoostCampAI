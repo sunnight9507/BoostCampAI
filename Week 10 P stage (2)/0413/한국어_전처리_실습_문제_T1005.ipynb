{
  "nbformat": 4,
  "nbformat_minor": 0,
  "metadata": {
    "kernelspec": {
      "display_name": "Python 3",
      "language": "python",
      "name": "python3"
    },
    "language_info": {
      "codemirror_mode": {
        "name": "ipython",
        "version": 3
      },
      "file_extension": ".py",
      "mimetype": "text/x-python",
      "name": "python",
      "nbconvert_exporter": "python",
      "pygments_lexer": "ipython3",
      "version": "3.8.3"
    },
    "colab": {
      "name": "한국어_전처리_실습_문제_T1005.ipynb",
      "provenance": [],
      "collapsed_sections": []
    }
  },
  "cells": [
    {
      "cell_type": "markdown",
      "metadata": {
        "id": "vgX6XvMDeNlT"
      },
      "source": [
        "# 한글 자연어 전처리 실습 문제\n",
        "> 작성자      \n",
        "```\n",
        "* 김성현 (bananaband657@gmail.com)  \n",
        "김바다 (qkek983@gmail.com)\n",
        "박상희 (parksanghee0103@gmail.com)  \n",
        "이정우 (jungwoo.l2.rs@gmail.com)\n",
        "```\n",
        "\n",
        "[CC BY-NC-ND](https://creativecommons.org/licenses/by-nc-nd/2.0/kr/)"
      ]
    },
    {
      "cell_type": "markdown",
      "metadata": {
        "id": "pPtd1SPn8RQl"
      },
      "source": [
        "이번 실습에서는 실제 현업에서 필요로 하는 다양한 전처리를 실습해보도록 하겠습니다! :-)   \n",
        "중간 중간에 있는 'myFunction' 부분을 채워서 제출해주세요!   \n",
        "예제 코드는 다음날인 4월 14일에 공개됩니다 🤗   "
      ]
    },
    {
      "cell_type": "markdown",
      "metadata": {
        "id": "fGkAbUoAl2uT"
      },
      "source": [
        "\n",
        "### 음성처리 관련 문제 (3)\n",
        "1. 알파벳 및 특수문자를 한글 발음으로 변환하기\n",
        "2. 대화속에서 등장한 금액과 계좌번호 추출하기\n",
        "3. 대화속에서 등장한 핸드폰 번호 추출하기\n",
        "\n",
        "### 개인정보 관련 문제 (2)\n",
        "4. 개인정보 마스킹하기\n",
        "5. 욕설 삐처리하기\n",
        "\n",
        "### 그 외 (2)\n",
        "6. 특정 영상의 유투브 댓글 크롤링하기\n",
        "7. Corpus EDA"
      ]
    },
    {
      "cell_type": "markdown",
      "metadata": {
        "id": "WQ7Vm-AreNlf"
      },
      "source": [
        "### 1. 자연어를 한글 발음으로 변환하기\n",
        "\n",
        "한국어는 특히 자연어를 발음으로 표현할 때, 구개음화 등과 같은 다양한 특징을 가집니다 😂   \n",
        "음성 합성을 위한 텍스트를 생성할 때, '소리나는 대로' 표현하기 위해 일반적인 자연어 텍스트를 발음 형태로 변형해주기도 합니다 🤗   \n",
        "\n",
        "\n"
      ]
    },
    {
      "cell_type": "code",
      "metadata": {
        "colab": {
          "base_uri": "https://localhost:8080/"
        },
        "id": "nYosdfe4nCYR",
        "outputId": "11839976-8ee3-4d3f-b2a3-43867d3ee308"
      },
      "source": [
        "!pip install g2pk"
      ],
      "execution_count": 51,
      "outputs": [
        {
          "output_type": "stream",
          "text": [
            "Requirement already satisfied: g2pk in /usr/local/lib/python3.7/dist-packages (0.9.4)\n",
            "Requirement already satisfied: nltk in /usr/local/lib/python3.7/dist-packages (from g2pk) (3.2.5)\n",
            "Requirement already satisfied: python-mecab-ko in /usr/local/lib/python3.7/dist-packages (from g2pk) (1.0.11)\n",
            "Requirement already satisfied: jamo in /usr/local/lib/python3.7/dist-packages (from g2pk) (0.4.1)\n",
            "Requirement already satisfied: konlpy in /usr/local/lib/python3.7/dist-packages (from g2pk) (0.5.2)\n",
            "Requirement already satisfied: six in /usr/local/lib/python3.7/dist-packages (from nltk->g2pk) (1.15.0)\n",
            "Requirement already satisfied: pybind11~=2.0 in /usr/local/lib/python3.7/dist-packages (from python-mecab-ko->g2pk) (2.6.2)\n",
            "Requirement already satisfied: JPype1>=0.7.0 in /usr/local/lib/python3.7/dist-packages (from konlpy->g2pk) (1.2.1)\n",
            "Requirement already satisfied: beautifulsoup4==4.6.0 in /usr/local/lib/python3.7/dist-packages (from konlpy->g2pk) (4.6.0)\n",
            "Requirement already satisfied: lxml>=4.1.0 in /usr/local/lib/python3.7/dist-packages (from konlpy->g2pk) (4.2.6)\n",
            "Requirement already satisfied: numpy>=1.6 in /usr/local/lib/python3.7/dist-packages (from konlpy->g2pk) (1.19.5)\n",
            "Requirement already satisfied: colorama in /usr/local/lib/python3.7/dist-packages (from konlpy->g2pk) (0.4.4)\n",
            "Requirement already satisfied: tweepy>=3.7.0 in /usr/local/lib/python3.7/dist-packages (from konlpy->g2pk) (3.10.0)\n",
            "Requirement already satisfied: typing-extensions; python_version < \"3.8\" in /usr/local/lib/python3.7/dist-packages (from JPype1>=0.7.0->konlpy->g2pk) (3.7.4.3)\n",
            "Requirement already satisfied: requests[socks]>=2.11.1 in /usr/local/lib/python3.7/dist-packages (from tweepy>=3.7.0->konlpy->g2pk) (2.23.0)\n",
            "Requirement already satisfied: requests-oauthlib>=0.7.0 in /usr/local/lib/python3.7/dist-packages (from tweepy>=3.7.0->konlpy->g2pk) (1.3.0)\n",
            "Requirement already satisfied: idna<3,>=2.5 in /usr/local/lib/python3.7/dist-packages (from requests[socks]>=2.11.1->tweepy>=3.7.0->konlpy->g2pk) (2.10)\n",
            "Requirement already satisfied: certifi>=2017.4.17 in /usr/local/lib/python3.7/dist-packages (from requests[socks]>=2.11.1->tweepy>=3.7.0->konlpy->g2pk) (2020.12.5)\n",
            "Requirement already satisfied: chardet<4,>=3.0.2 in /usr/local/lib/python3.7/dist-packages (from requests[socks]>=2.11.1->tweepy>=3.7.0->konlpy->g2pk) (3.0.4)\n",
            "Requirement already satisfied: urllib3!=1.25.0,!=1.25.1,<1.26,>=1.21.1 in /usr/local/lib/python3.7/dist-packages (from requests[socks]>=2.11.1->tweepy>=3.7.0->konlpy->g2pk) (1.24.3)\n",
            "Requirement already satisfied: PySocks!=1.5.7,>=1.5.6; extra == \"socks\" in /usr/local/lib/python3.7/dist-packages (from requests[socks]>=2.11.1->tweepy>=3.7.0->konlpy->g2pk) (1.7.1)\n",
            "Requirement already satisfied: oauthlib>=3.0.0 in /usr/local/lib/python3.7/dist-packages (from requests-oauthlib>=0.7.0->tweepy>=3.7.0->konlpy->g2pk) (3.1.0)\n"
          ],
          "name": "stdout"
        }
      ]
    },
    {
      "cell_type": "code",
      "metadata": {
        "id": "JLa9t6conekq"
      },
      "source": [
        "from g2pk import G2p\n",
        "g2p = G2p()"
      ],
      "execution_count": 52,
      "outputs": []
    },
    {
      "cell_type": "code",
      "metadata": {
        "id": "mMaxaBkteNlg"
      },
      "source": [
        "text = \"Lost arc는 smile gate가 개발한 action game이다.\\n\\\n",
        "2014년 11월 12일 최초 공개했으며 2018년 11월 7일부터 오픈 베타 테스트를 진행하다 2019년 12월 4일 정식 오픈했다.\""
      ],
      "execution_count": 53,
      "outputs": []
    },
    {
      "cell_type": "code",
      "metadata": {
        "colab": {
          "base_uri": "https://localhost:8080/"
        },
        "id": "g5gCE8VgnH62",
        "outputId": "3ecd9e86-f9c1-4de6-88e9-2429fd952c4b"
      },
      "source": [
        "print(g2p(text))"
      ],
      "execution_count": 54,
      "outputs": [
        {
          "output_type": "stream",
          "text": [
            "로스트 아크는 스마일 게이트가 개발하 낵쎤 게이미다.\n",
            "이영일사녀 니리뤄 리리일 최초 공개해쓰며 이영일팔려 니리뤌 치릴부터 오픈 베타 테스트를 진행하다 이영일구녀 니리월 사일 정시 고픈핻따.\n"
          ],
          "name": "stdout"
        }
      ]
    },
    {
      "cell_type": "markdown",
      "metadata": {
        "id": "BivaUUHxeNlk"
      },
      "source": [
        "### 2. 대화속에서 등장한 금액과 계좌번호 추출하기\n",
        "\n",
        "- 고객과 상담사간의 통화 내용을 음성인식한 데이터입니다.   \n",
        "- 해당 데이터에서 금액과 계좌번호를 추출하는 시나리오입니다.   \n",
        "- A은행의 계좌번호는 \"-\"를 포함해서 12자리입니다.\n",
        "\n",
        "- 예시) xxx-xxx-xxxx"
      ]
    },
    {
      "cell_type": "code",
      "metadata": {
        "id": "QvguPltheNll"
      },
      "source": [
        "texts = [\"여보세요. 거기 A은행이죠? 저의 계좌에 문제가 있어서 연락드렸습니다. 어플로 돈을 송금해야 하는데 오류가 뜨네요.\",\n",
        "         \"네! 고객님 안녕하세요. A은행 상담사 홍길동입니다. 계좌번호에 문제가 생기셔서 연락주셨다구요?\",\n",
        "         \"네 맞아요\",\n",
        "         \"현재 어플 전산망의 문제가 생겨 복구중에 있습니다. 직접 송금 서비스를 도와드리겠습니다. 인출하실 계좌번호를 알려주실 수 있을까요?\",\n",
        "         \"일이삼다시사오육다시칠팔구공이요\",\n",
        "         \"고객님이 송금하고 싶으신 금액은 얼마입니까?\",\n",
        "         \"팔억구천팔백칠십오만육백오십칠원이에요\",\n",
        "         \"고객님이 송금하시고자 하는 계좌번호를 알려주실 수 있을까요?\",\n",
        "         \"영구팔다시칠육오다시사삼이일이요\",\n",
        "         \"네! 고객님 이용해 불편을 드려 대단히 죄송합니다. 송금 정상처리되었습니다.\",\n",
        "         \"네 감사합니다.\"]"
      ],
      "execution_count": 55,
      "outputs": []
    },
    {
      "cell_type": "code",
      "metadata": {
        "id": "MfZ-7n6neNlm"
      },
      "source": [
        "text2num = {\"일\": \"1\", \"이\": \"2\", \"삼\": \"3\", \"사\": \"4\", \"오\": \"5\",\n",
        "            \"육\": \"6\", \"칠\": \"7\", \"팔\": \"8\", \"구\": \"9\", \"공\": \"0\",\n",
        "            \"영\": \"0\"}\n",
        "\n",
        "def text_to_num(text):\n",
        "    num = []\n",
        "    for t in text:\n",
        "      num.append(text2num[t])\n",
        "\n",
        "    return \"\".join(num)\n",
        "\n",
        "\n",
        "def find_account(text):\n",
        "    is_accout_compile = re.compile(\"(...)다시(...)다시(....)\")\n",
        "    account = []\n",
        "\n",
        "    for i in range(1, 3):\n",
        "        account.append(text_to_num(is_accout_compile.search(text).group(i)))\n",
        "        account.append(\"-\")\n",
        "    else:\n",
        "        account.append(text_to_num(is_accout_compile.search(text).group(3)))\n",
        "    \n",
        "    account = \"\".join(account)\n",
        "\n",
        "    return account\n",
        "\n",
        "\n",
        "def text_to_digit(text):\n",
        "    is_money_extraction_sentence_compile = re.compile(\"([가-힣]+)원\")\n",
        "\n",
        "    text_money = is_money_extraction_sentence_compile.search(text).group(1)\n",
        "    unit1 = {\"억\": 1e8, \"만\": 1e4}\n",
        "    unit2 = {\"천\": 1e3, \"백\": 1e2, \"십\": 1e1}\n",
        "    total_money = 0\n",
        "    temp_money = 0\n",
        "    temp_num = 0\n",
        "    \n",
        "    for t in text_money:\n",
        "        if t in text2num:\n",
        "            temp_num = int(text2num[t])\n",
        "        elif t in unit2:\n",
        "            temp_money += temp_num * unit2[t]\n",
        "        elif t in unit1:\n",
        "            temp_money += temp_num\n",
        "            total_money += temp_money * unit1[t]\n",
        "            temp_money = 0\n",
        "    else:\n",
        "        total_money += temp_money + temp_num\n",
        "\n",
        "    result = \"\"\n",
        "    cnt = 0\n",
        "    for i in str(int(total_money))[::-1]:\n",
        "        if cnt == 3:\n",
        "            result += \",\"\n",
        "            cnt = 0\n",
        "        result += i\n",
        "        cnt += 1\n",
        "        \n",
        "    return result[::-1] + \"원\"\n",
        "\n",
        "\n",
        "def myFunction(texts):\n",
        "    is_from_account_sentence = False\n",
        "    from_account_compile = re.compile(\"인출|계좌번호\")\n",
        "\n",
        "    is_to_account_sentence = False\n",
        "    is_to_account_compile = re.compile(\"송금|금액\")\n",
        "\n",
        "    is_money_extraction_sentence = False\n",
        "    is_money_extraction_compile = re.compile(\"송금|계좌번호\")\n",
        "\n",
        "    for text in texts:\n",
        "        if is_from_account_sentence:\n",
        "            from_account = find_account(text)\n",
        "            is_from_account_sentence = False\n",
        "            continue\n",
        "\n",
        "        if is_to_account_sentence:\n",
        "            to_account = find_account(text)\n",
        "            is_to_account_sentence = False\n",
        "            continue\n",
        "\n",
        "        if is_money_extraction_sentence:\n",
        "            money_extraction = text_to_digit(text)\n",
        "            # print(is_money_extraction_sentence_compile.search(text).group(1))\n",
        "            is_money_extraction_sentence = False\n",
        "            continue\n",
        "\n",
        "        if set(from_account_compile.findall(text)) == {\"인출\", \"계좌번호\"}:\n",
        "            is_from_account_sentence = True\n",
        "            continue\n",
        "\n",
        "        if set(is_to_account_compile.findall(text)) == {\"송금\", \"금액\"}:\n",
        "            is_money_extraction_sentence = True\n",
        "            continue\n",
        "        \n",
        "        if set(is_money_extraction_compile.findall(text)) == {\"송금\", \"계좌번호\"}:\n",
        "            is_to_account_sentence = True\n",
        "            continue\n",
        "    \n",
        "    # 최종 원하는 결과들을 딕셔너리 형태로 리턴\n",
        "    return {\"from_Account\" : from_account, \"to_Account\" : to_account, \"money\" : money_extraction}"
      ],
      "execution_count": 184,
      "outputs": []
    },
    {
      "cell_type": "code",
      "metadata": {
        "scrolled": false,
        "id": "qJyfKHl8eNln",
        "colab": {
          "base_uri": "https://localhost:8080/"
        },
        "outputId": "2c982222-5252-43c5-8eb3-5d752e7ee30d"
      },
      "source": [
        "myFunction(texts)"
      ],
      "execution_count": 185,
      "outputs": [
        {
          "output_type": "execute_result",
          "data": {
            "text/plain": [
              "{'from_Account': '123-456-7890',\n",
              " 'money': '898,750,657원',\n",
              " 'to_Account': '098-765-4321'}"
            ]
          },
          "metadata": {
            "tags": []
          },
          "execution_count": 185
        }
      ]
    },
    {
      "cell_type": "markdown",
      "metadata": {
        "id": "vmcLZA1LeNlo"
      },
      "source": [
        "### 3. 대화속에서 등장한 핸드폰 번호 추출하기\n",
        "\n",
        "- 고객과 상담사간의 통화 내용을 음성인식한 데이터입니다.   \n",
        "- 대화 속에 등장한 핸드폰 번호를 추출해보도록 하겠습니다.   "
      ]
    },
    {
      "cell_type": "code",
      "metadata": {
        "id": "fp5jpUQCeNlo"
      },
      "source": [
        "texts = [\"XXX 쇼핑몰 고객센터입니다.\",\n",
        "         \"배송 관련 문의 사항은 공일공육사칠구팔구삼삼입니다.\",\n",
        "         \"환불 및 교환 관련 문의사항은 공삼일구육칠이육삼삼입니다.\",\n",
        "         \"제품 풀질 문의사항은 공일일일일이삼일이삼사입니다.\", \n",
        "         \"기타 문의사항은 공삼일팔구구구일이삼사입니다.\",\n",
        "         \"상담원 연결은 공이칠칠칠팔이팔이입니다.\"]"
      ],
      "execution_count": 186,
      "outputs": []
    },
    {
      "cell_type": "code",
      "metadata": {
        "id": "HroLOpJ7eNlp",
        "colab": {
          "base_uri": "https://localhost:8080/"
        },
        "outputId": "4609b4ce-0391-4695-963a-95937039d8c3"
      },
      "source": [
        "texts"
      ],
      "execution_count": 187,
      "outputs": [
        {
          "output_type": "execute_result",
          "data": {
            "text/plain": [
              "['XXX 쇼핑몰 고객센터입니다.',\n",
              " '배송 관련 문의 사항은 공일공육사칠구팔구삼삼입니다.',\n",
              " '환불 및 교환 관련 문의사항은 공삼일구육칠이육삼삼입니다.',\n",
              " '제품 풀질 문의사항은 공일일일일이삼일이삼사입니다.',\n",
              " '기타 문의사항은 공삼일팔구구구일이삼사입니다.',\n",
              " '상담원 연결은 공이칠칠칠팔이팔이입니다.']"
            ]
          },
          "metadata": {
            "tags": []
          },
          "execution_count": 187
        }
      ]
    },
    {
      "cell_type": "code",
      "metadata": {
        "id": "OnCWIYOieNlp"
      },
      "source": [
        "text2num = {\"일\": \"1\", \"이\": \"2\", \"삼\": \"3\", \"사\": \"4\", \"오\": \"5\",\n",
        "            \"육\": \"6\", \"칠\": \"7\", \"팔\": \"8\", \"구\": \"9\", \"공\": \"0\",\n",
        "            \"영\": \"0\"}\n",
        "\n",
        "def text_to_num(text):\n",
        "    num = []\n",
        "    for t in text:\n",
        "      num.append(text2num[t])\n",
        "\n",
        "    num_length = len(num)\n",
        "\n",
        "    if num_length == 11:\n",
        "        return \"\".join(num[:3]) + \"-\" + \"\".join(num[3:7]) + \"-\" + \"\".join(num[7:])\n",
        "    elif num_length == 10:\n",
        "        return \"\".join(num[:3]) + \"-\" + \"\".join(num[3:6]) + \"-\" + \"\".join(num[6:])\n",
        "    elif num_length == 9:\n",
        "        return \"\".join(num[:2]) + \"-\" + \"\".join(num[2:5]) + \"-\" + \"\".join(num[5:])\n",
        "\n",
        "def myFunction(texts):\n",
        "    is_phone_number_compile = re.compile(\"(공[가-힣]+)입니다.\")\n",
        "    phones = []\n",
        "\n",
        "    for text in texts:\n",
        "        phone_number = is_phone_number_compile.search(text)\n",
        "        if phone_number:\n",
        "            phones.append(text_to_num(phone_number.group(1)))\n",
        "\n",
        "    # 저장된 전화번호 리스트를 리턴\n",
        "    return phones"
      ],
      "execution_count": 213,
      "outputs": []
    },
    {
      "cell_type": "code",
      "metadata": {
        "colab": {
          "base_uri": "https://localhost:8080/"
        },
        "id": "ehju2A0P7Hf4",
        "outputId": "35f8024b-d825-4575-ae91-740f089771cc"
      },
      "source": [
        "myFunction(texts)"
      ],
      "execution_count": 214,
      "outputs": [
        {
          "output_type": "execute_result",
          "data": {
            "text/plain": [
              "['010-6479-8933',\n",
              " '031-967-2633',\n",
              " '011-1123-1234',\n",
              " '031-8999-1234',\n",
              " '02-777-8282']"
            ]
          },
          "metadata": {
            "tags": []
          },
          "execution_count": 214
        }
      ]
    },
    {
      "cell_type": "markdown",
      "metadata": {
        "id": "wJPDvtTOeNlr"
      },
      "source": [
        "### 4. 개인정보 마스킹하기"
      ]
    },
    {
      "cell_type": "markdown",
      "metadata": {
        "id": "_zkSx0At-jC4"
      },
      "source": [
        "- 개인정보 마스킹의 중요성은 아무리 강조해도 지나치지 않습니다.\n",
        "- 아래 텍스트들에 대해 개인 정보를 마스킹해보겠습니다."
      ]
    },
    {
      "cell_type": "code",
      "metadata": {
        "id": "Qm7PbUD-eNls"
      },
      "source": [
        "texts = [\"진 김석진 1992-12-04 Seokjin_INTP@gmail.com\",\n",
        "         \"슈가 민윤기 1993-03-09 Yunki_INTP@daum.com\",\n",
        "         \"제이홉 정호석 1994-02-18 Hoseok_ESFJ@naver.com\",\n",
        "         \"RM 김남준 1994-09-12 Namjun_ENFP@naver.com\",\n",
        "         \"지민 박지민 1995-10-13 Jimin_ENJF@daum.com\",\n",
        "         \"뷔 김태형 1995-12-30 Taehyung_ENFP@hanmail.net\",\n",
        "         \"정국 전정국 1997-09-01 Jungkook_ISFP-A@kakak.com\"]"
      ],
      "execution_count": 215,
      "outputs": []
    },
    {
      "cell_type": "code",
      "metadata": {
        "id": "zqMSVdjzeNlt",
        "colab": {
          "base_uri": "https://localhost:8080/"
        },
        "outputId": "26ba007f-e7ab-4d64-b349-8405498fe0bf"
      },
      "source": [
        "texts"
      ],
      "execution_count": 216,
      "outputs": [
        {
          "output_type": "execute_result",
          "data": {
            "text/plain": [
              "['진 김석진 1992-12-04 Seokjin_INTP@gmail.com',\n",
              " '슈가 민윤기 1993-03-09 Yunki_INTP@daum.com',\n",
              " '제이홉 정호석 1994-02-18 Hoseok_ESFJ@naver.com',\n",
              " 'RM 김남준 1994-09-12 Namjun_ENFP@naver.com',\n",
              " '지민 박지민 1995-10-13 Jimin_ENJF@daum.com',\n",
              " '뷔 김태형 1995-12-30 Taehyung_ENFP@hanmail.net',\n",
              " '정국 전정국 1997-09-01 Jungkook_ISFP-A@kakak.com']"
            ]
          },
          "metadata": {
            "tags": []
          },
          "execution_count": 216
        }
      ]
    },
    {
      "cell_type": "code",
      "metadata": {
        "id": "fj7rXutQeNlt"
      },
      "source": [
        "def myFunction(texts):\n",
        "    new_texts = []\n",
        "    for text in texts:\n",
        "        name1, name2, birth, email = text.split()\n",
        "        name2 = name2[0] + \"*\" * len(name2[1:])\n",
        "        email_to_anonymization, email = email.split(\"@\")\n",
        "        email = email_to_anonymization[0] + \"*\" * len(email_to_anonymization[1:]) + \"@\" + email\n",
        "        new_texts.append(\" \".join([name1, name2, birth, email]))\n",
        "            \n",
        "    return new_texts"
      ],
      "execution_count": 236,
      "outputs": []
    },
    {
      "cell_type": "code",
      "metadata": {
        "colab": {
          "base_uri": "https://localhost:8080/"
        },
        "id": "0GHZeKW9UrJA",
        "outputId": "5bab35ad-f4b9-42f2-e7f2-2546d117920d"
      },
      "source": [
        "myFunction(texts)"
      ],
      "execution_count": 237,
      "outputs": [
        {
          "output_type": "execute_result",
          "data": {
            "text/plain": [
              "['진 김** 1992-12-04 S***********@gmail.com',\n",
              " '슈가 민** 1993-03-09 Y*********@daum.com',\n",
              " '제이홉 정** 1994-02-18 H**********@naver.com',\n",
              " 'RM 김** 1994-09-12 N**********@naver.com',\n",
              " '지민 박** 1995-10-13 J*********@daum.com',\n",
              " '뷔 김** 1995-12-30 T************@hanmail.net',\n",
              " '정국 전** 1997-09-01 J**************@kakak.com']"
            ]
          },
          "metadata": {
            "tags": []
          },
          "execution_count": 237
        }
      ]
    },
    {
      "cell_type": "markdown",
      "metadata": {
        "id": "vjGr9U3BeNlv"
      },
      "source": [
        "### 5.  욕설 삐처리 하기"
      ]
    },
    {
      "cell_type": "code",
      "metadata": {
        "id": "KMQvoKVyeNlv",
        "colab": {
          "base_uri": "https://localhost:8080/"
        },
        "outputId": "b38e1d09-c161-439b-d09b-35d1b6d4bbf2"
      },
      "source": [
        "!git clone https://github.com/2runo/Curse-detection-data.git"
      ],
      "execution_count": 239,
      "outputs": [
        {
          "output_type": "stream",
          "text": [
            "Cloning into 'Curse-detection-data'...\n",
            "remote: Enumerating objects: 16, done.\u001b[K\n",
            "remote: Counting objects: 100% (16/16), done.\u001b[K\n",
            "remote: Compressing objects: 100% (16/16), done.\u001b[K\n",
            "remote: Total 16 (delta 4), reused 0 (delta 0), pack-reused 0\u001b[K\n",
            "Unpacking objects: 100% (16/16), done.\n"
          ],
          "name": "stdout"
        }
      ]
    },
    {
      "cell_type": "code",
      "metadata": {
        "id": "Gs5eF1QIeNlw",
        "colab": {
          "base_uri": "https://localhost:8080/"
        },
        "outputId": "7b908813-869b-4952-d818-da4ef7fd7e2f"
      },
      "source": [
        "import random\n",
        "import pandas as pd\n",
        "from tqdm import tqdm\n",
        "\n",
        "data = pd.DataFrame()\n",
        "\n",
        "f = open(\"./Curse-detection-data/dataset.txt\", 'r')\n",
        "lines = f.readlines()\n",
        "for line in tqdm(lines):\n",
        "    docs = line.replace(\"\\n\", \"\").split(\"|\")\n",
        "    data = data.append({\"text\":docs[0], \"label\":docs[1]}, ignore_index=True)\n",
        "f.close()\n",
        "\n",
        "data = data[data[\"label\"] == \"1\"].reset_index(drop=True)\n",
        "random_index = random.sample(range(len(data)), 10)\n",
        "texts = [data.loc[row][\"text\"] for row in random_index]"
      ],
      "execution_count": 240,
      "outputs": [
        {
          "output_type": "stream",
          "text": [
            "100%|██████████| 5825/5825 [00:15<00:00, 373.82it/s]\n"
          ],
          "name": "stderr"
        }
      ]
    },
    {
      "cell_type": "code",
      "metadata": {
        "id": "--X3IwgOeNlx",
        "colab": {
          "base_uri": "https://localhost:8080/"
        },
        "outputId": "38417ec3-abf8-44d5-ce27-f619e6ca77d1"
      },
      "source": [
        "texts"
      ],
      "execution_count": 241,
      "outputs": [
        {
          "output_type": "execute_result",
          "data": {
            "text/plain": [
              "['운지햐라',\n",
              " '그러니깐 딜도로 쑤셔박아야한다는거지?',\n",
              " '야이 빙신아 천조국은 석유도 나니까 땅이 기름지지 ㅉㅉ',\n",
              " '니도 느검마 눈엔 아기천사였어',\n",
              " '하...짱깨야 보고있나??',\n",
              " 'ㅇㅎ 과거도 현재도 민족의식 애국심 존나 안드는건 마찬가진가지네',\n",
              " '그럼 땅에 뭍으라고??? 뭐 어떻게 하라고저런덴 쓰레기 수거를 안해 병신아 ',\n",
              " '넌 시발 뭐하는 새끼인데 여기서 이지랄이냐? 기술이나 배워라.',\n",
              " '뭘 끼워맞쳐 ㅉ   티모테오   내가 처죽여냐 ?? 지가 처맞아죽었고 그게 기록상 팩트쟌아 그런데 뭘끼어맞쳐다는건지  시비걸지마라http://maria.catholic.or.kr/sa_ho/list/list.asp?menugubun=saint&today=&today_tmp=&ctxtCommand=&ctxtLogOn=&ctxtSexcode=&ctxtChukday=&ctxtGaladay=&Orggubun=101&ctxtHigh=&ctxtLow=&ctxtChecked=Checked&oldrow=&curpage=1&ctxtOrder=name1%2Cgaladaym%2Cgaladayd&ctxtOrderType=&ctxtSaintId=&ctxtSCode=&ctxtSearchNm=%EB%94%94%EB%AA%A8%ED%85%8C%EC%98%A4&ctxtChukmm=&ctxtChukdd=&ctxtPosition=&ctxtCity=&PSIZE=20',\n",
              " '시발년이네남친 잇냐?']"
            ]
          },
          "metadata": {
            "tags": []
          },
          "execution_count": 241
        }
      ]
    },
    {
      "cell_type": "code",
      "metadata": {
        "id": "J5P3h_zdeNlx",
        "colab": {
          "base_uri": "https://localhost:8080/"
        },
        "outputId": "aef3186f-4113-480c-8115-3262520b3a48"
      },
      "source": [
        "# 욕설 사전\n",
        "!git clone https://github.com/LDNOOBW/List-of-Dirty-Naughty-Obscene-and-Otherwise-Bad-Words\n",
        "!git clone https://github.com/doublems/korean-bad-words\n",
        "!git clone https://github.com/organization/Gentleman/"
      ],
      "execution_count": 242,
      "outputs": [
        {
          "output_type": "stream",
          "text": [
            "Cloning into 'List-of-Dirty-Naughty-Obscene-and-Otherwise-Bad-Words'...\n",
            "remote: Enumerating objects: 480, done.\u001b[K\n",
            "remote: Total 480 (delta 0), reused 0 (delta 0), pack-reused 480\u001b[K\n",
            "Receiving objects: 100% (480/480), 110.14 KiB | 939.00 KiB/s, done.\n",
            "Resolving deltas: 100% (249/249), done.\n",
            "Cloning into 'korean-bad-words'...\n",
            "remote: Enumerating objects: 56, done.\u001b[K\n",
            "remote: Total 56 (delta 0), reused 0 (delta 0), pack-reused 56\u001b[K\n",
            "Unpacking objects: 100% (56/56), done.\n",
            "Cloning into 'Gentleman'...\n",
            "remote: Enumerating objects: 55, done.\u001b[K\n",
            "remote: Total 55 (delta 0), reused 0 (delta 0), pack-reused 55\u001b[K\n",
            "Unpacking objects: 100% (55/55), done.\n"
          ],
          "name": "stdout"
        }
      ]
    },
    {
      "cell_type": "code",
      "metadata": {
        "id": "_L7gXSZeeNly"
      },
      "source": [
        "import json\n",
        "\n",
        "# 비속어 사전 01\n",
        "slang_list_01 = []\n",
        "f = open(\"./List-of-Dirty-Naughty-Obscene-and-Otherwise-Bad-Words/ko\", 'r')\n",
        "lines = f.readlines()\n",
        "for line in lines:\n",
        "    line = line.replace(\"\\n\", \"\")\n",
        "    slang_list_01.append(line)\n",
        "f.close()\n",
        "\n",
        "# 비속어 사전 02\n",
        "slang_list_02 = []\n",
        "f = open(\"./korean-bad-words/korean-bad-words.md\", 'r')\n",
        "lines = f.readlines()\n",
        "for line in lines:\n",
        "    line = line.replace(\"\\n\", \"\")\n",
        "    slang_list_02.append(line)\n",
        "f.close()\n",
        "\n",
        "# 비속어 사전 03\n",
        "with open('./Gentleman/resources/badwords.json') as json_file:\n",
        "    json_data = json.load(json_file)\n",
        "slang_list_03 = json_data[\"badwords\"]\n",
        "\n",
        "# 비속어 사전 통합\n",
        "slang_list = slang_list_01 + slang_list_02 + slang_list_03\n",
        "slang_list = list(set(slang_list))"
      ],
      "execution_count": 243,
      "outputs": []
    },
    {
      "cell_type": "code",
      "metadata": {
        "id": "C9bmZGPWeNlz"
      },
      "source": [
        "def myFunction(texts):\n",
        "    new_texts = []\n",
        "\n",
        "    for text in texts:\n",
        "        for slang in slang_list:\n",
        "            text = text.replace(slang, \"**\")\n",
        "        new_texts.append(text)\n",
        "            \n",
        "    return new_texts"
      ],
      "execution_count": 261,
      "outputs": []
    },
    {
      "cell_type": "code",
      "metadata": {
        "id": "JN6e3BRYeNlz",
        "colab": {
          "base_uri": "https://localhost:8080/"
        },
        "outputId": "6e3fbd5c-3a62-470e-d436-cf248b217f1e"
      },
      "source": [
        "myFunction(texts)"
      ],
      "execution_count": 262,
      "outputs": [
        {
          "output_type": "execute_result",
          "data": {
            "text/plain": [
              "['운지햐라',\n",
              " '그러니깐 **로 쑤셔박아야한다는거지?',\n",
              " '야이 **아 천조국은 석유도 나니까 땅이 기름지지 ㅉㅉ',\n",
              " '니도 ** 눈엔 아기천사였어',\n",
              " '하...**야 보고있나??',\n",
              " 'ㅇㅎ 과거도 현재도 민족의식 애국심 ** 안드는건 마찬가진가지네',\n",
              " '그럼 땅에 뭍으라고??? 뭐 어떻게 하라고저런덴 ** 수거를 안해 **아 ',\n",
              " '넌 ** 뭐하는 **인데 여기서 이**냐? 기술이나 배워라.',\n",
              " '뭘 끼워맞쳐 ㅉ   티모테오   내가 처죽여냐 ?? 지가 처맞아죽었고 그게 기록상 팩트쟌아 그런데 뭘끼어맞쳐다는건지  시비걸지마라http://maria.catholic.or.kr/sa_ho/list/list.asp?menugubun=saint&today=&today_tmp=&ctxtCommand=&ctxtLogOn=&ctxtSexcode=&ctxtChukday=&ctxtGaladay=&Orggubun=101&ctxtHigh=&ctxtLow=&ctxtChecked=Checked&oldrow=&curpage=1&ctxtOrder=name1%2Cgaladaym%2Cgaladayd&ctxtOrderType=&ctxtSaintId=&ctxtSCode=&ctxtSearchNm=%EB%94%94%EB%AA%A8%ED%85%8C%EC%98%A4&ctxtChukmm=&ctxtChukdd=&ctxtPosition=&ctxtCity=&PSIZE=20',\n",
              " '시**이네남친 잇냐?']"
            ]
          },
          "metadata": {
            "tags": []
          },
          "execution_count": 262
        }
      ]
    },
    {
      "cell_type": "markdown",
      "metadata": {
        "id": "Ndj6FT0ueNlz"
      },
      "source": [
        "### 6. 특정 영상의 유투브 댓글 크롤링하기\n",
        "\n",
        "1. 셀레니움을 위해서 크롬 드라이버 설치하기"
      ]
    },
    {
      "cell_type": "code",
      "metadata": {
        "colab": {
          "base_uri": "https://localhost:8080/"
        },
        "id": "Ld5sbcQEZxpI",
        "outputId": "4e520f8b-993e-4aa9-b2c7-dbe01698aff6"
      },
      "source": [
        "!pip install selenium\n",
        "!apt-get update # to update ubuntu to correctly run apt install\n",
        "!apt install chromium-chromedriver\n",
        "!apt-get install xvfb\n",
        "!cp /usr/lib/chromium-browser/chromedriver /usr/bin\n",
        "import sys\n",
        "sys.path.insert(0,'/usr/lib/chromium-browser/chromedriver')\n",
        "!pip install pyvirtualdisplay"
      ],
      "execution_count": 270,
      "outputs": [
        {
          "output_type": "stream",
          "text": [
            "Requirement already satisfied: selenium in /usr/local/lib/python3.7/dist-packages (3.141.0)\n",
            "Requirement already satisfied: urllib3 in /usr/local/lib/python3.7/dist-packages (from selenium) (1.24.3)\n",
            "Hit:1 https://cloud.r-project.org/bin/linux/ubuntu bionic-cran40/ InRelease\n",
            "Ign:2 https://developer.download.nvidia.com/compute/cuda/repos/ubuntu1804/x86_64  InRelease\n",
            "Ign:3 https://developer.download.nvidia.com/compute/machine-learning/repos/ubuntu1804/x86_64  InRelease\n",
            "Hit:4 https://developer.download.nvidia.com/compute/cuda/repos/ubuntu1804/x86_64  Release\n",
            "Hit:5 https://developer.download.nvidia.com/compute/machine-learning/repos/ubuntu1804/x86_64  Release\n",
            "Hit:6 http://security.ubuntu.com/ubuntu bionic-security InRelease\n",
            "Hit:7 http://ppa.launchpad.net/c2d4u.team/c2d4u4.0+/ubuntu bionic InRelease\n",
            "Hit:8 http://archive.ubuntu.com/ubuntu bionic InRelease\n",
            "Hit:10 http://archive.ubuntu.com/ubuntu bionic-updates InRelease\n",
            "Hit:11 http://ppa.launchpad.net/cran/libgit2/ubuntu bionic InRelease\n",
            "Hit:13 http://archive.ubuntu.com/ubuntu bionic-backports InRelease\n",
            "Hit:14 http://ppa.launchpad.net/deadsnakes/ppa/ubuntu bionic InRelease\n",
            "Hit:15 http://ppa.launchpad.net/graphics-drivers/ppa/ubuntu bionic InRelease\n",
            "Reading package lists... Done\n",
            "Reading package lists... Done\n",
            "Building dependency tree       \n",
            "Reading state information... Done\n",
            "chromium-chromedriver is already the newest version (89.0.4389.90-0ubuntu0.18.04.2).\n",
            "0 upgraded, 0 newly installed, 0 to remove and 35 not upgraded.\n",
            "Reading package lists... Done\n",
            "Building dependency tree       \n",
            "Reading state information... Done\n",
            "xvfb is already the newest version (2:1.19.6-1ubuntu4.8).\n",
            "0 upgraded, 0 newly installed, 0 to remove and 35 not upgraded.\n",
            "cp: '/usr/lib/chromium-browser/chromedriver' and '/usr/bin/chromedriver' are the same file\n",
            "Collecting pyvirtualdisplay\n",
            "  Downloading https://files.pythonhosted.org/packages/19/88/7a198a5ee3baa3d547f5a49574cd8c3913b216f5276b690b028f89ffb325/PyVirtualDisplay-2.1-py3-none-any.whl\n",
            "Collecting EasyProcess\n",
            "  Downloading https://files.pythonhosted.org/packages/48/3c/75573613641c90c6d094059ac28adb748560d99bd27ee6f80cce398f404e/EasyProcess-0.3-py2.py3-none-any.whl\n",
            "Installing collected packages: EasyProcess, pyvirtualdisplay\n",
            "Successfully installed EasyProcess-0.3 pyvirtualdisplay-2.1\n"
          ],
          "name": "stdout"
        }
      ]
    },
    {
      "cell_type": "code",
      "metadata": {
        "id": "myH_S11-eNl0"
      },
      "source": [
        "import time\n",
        "from bs4 import BeautifulSoup\n",
        "from selenium import webdriver\n",
        "from pyvirtualdisplay import Display"
      ],
      "execution_count": 271,
      "outputs": []
    },
    {
      "cell_type": "code",
      "metadata": {
        "id": "db6xOyOleNl0",
        "colab": {
          "base_uri": "https://localhost:8080/"
        },
        "outputId": "86d8f4cf-e3db-4568-ac6b-b913f5accf48"
      },
      "source": [
        "# display = Display(visible=0, size = (1024,768))\n",
        "# display.start()\n",
        "# driver = webdriver.Chrome(\"/home/roa/project/chromedriver\")\n",
        "\n",
        "display = Display(visible=0, size = (1024,768))\n",
        "display.start()\n",
        "from selenium import webdriver\n",
        "chrome_options = webdriver.ChromeOptions()\n",
        "chrome_options.add_argument('--headless')\n",
        "chrome_options.add_argument('--no-sandbox')\n",
        "chrome_options.add_argument('--disable-dev-shm-usage')\n",
        "driver = webdriver.Chrome('chromedriver',chrome_options=chrome_options)\n",
        "# driver = webdriver.Chrome(\"/usr/lib/chromium-browser/chromedriver\")"
      ],
      "execution_count": 272,
      "outputs": [
        {
          "output_type": "stream",
          "text": [
            "/usr/local/lib/python3.7/dist-packages/ipykernel_launcher.py:12: DeprecationWarning: use options instead of chrome_options\n",
            "  if sys.path[0] == '':\n"
          ],
          "name": "stderr"
        }
      ]
    },
    {
      "cell_type": "code",
      "metadata": {
        "id": "_NeNoL-FeNl1"
      },
      "source": [
        "url = \"https://www.youtube.com/watch?v=BS6O0zOGX4E&list=PLlMkM4tgfjnLSOjrEJN31gZATbcj_MpUm\""
      ],
      "execution_count": 273,
      "outputs": []
    },
    {
      "cell_type": "code",
      "metadata": {
        "id": "aY5TrVAqeNl1"
      },
      "source": [
        "def myFunction (url, n) : \n",
        "    \n",
        "    # 크롬 드라이버\n",
        "    driver.get(url)\n",
        "    \n",
        "    # 페이지의 가장 아래부분의 창 높이를 저장\n",
        "    last_page_height = driver.execute_script(\"return document.documentElement.scrollHeight\") \n",
        "    \n",
        "    # 창이 제일 아래에 도달할 때 까지 반복\n",
        "    while True: \n",
        "        \n",
        "        # 스크롤\n",
        "        driver.execute_script(\"window.scrollTo(0, document.documentElement.scrollHeight);\") \n",
        "        \n",
        "        # 1초 대기\n",
        "        time.sleep(1.0) \n",
        "        \n",
        "        # 헌재의 스크롤 높이\n",
        "        new_page_height = driver.execute_script(\"return document.documentElement.scrollHeight\") \n",
        "        \n",
        "        # 현재 높이가 제일 아래이면 반복문 탈출\n",
        "        if new_page_height == last_page_height: \n",
        "            break \n",
        "        \n",
        "        # 현재 페이지 갱신\n",
        "        last_page_height = new_page_height\n",
        "    \n",
        "    # 페이지 소스 가져오기\n",
        "    html_source = driver.page_source\n",
        "    \n",
        "    # lxml을 parsing\n",
        "    soup = BeautifulSoup(html_source, 'lxml')\n",
        "        \n",
        "    # 댓글부분 선택\n",
        "    comments = soup.select('yt-formatted-string#content-text')\n",
        "    \n",
        "    # 텍스트만 정제해서 담을 리스트\n",
        "    comments_preprossed = []\n",
        "    \n",
        "    # 1 ~ n개 까지만 가져옴\n",
        "    for comment in comments[:n] : \n",
        "        \n",
        "        # 가져온 댓글 내용을 저장\n",
        "        comments_preprossed.append(comment.text)\n",
        "\n",
        "    # 저장된 댓글 리턴\n",
        "    return comments_preprossed"
      ],
      "execution_count": 274,
      "outputs": []
    },
    {
      "cell_type": "code",
      "metadata": {
        "id": "2gGx9bJpeNl4",
        "colab": {
          "base_uri": "https://localhost:8080/"
        },
        "outputId": "1ae041b7-590c-4406-c280-b9b35d989f4e"
      },
      "source": [
        "myFunction(url=url, n=10)"
      ],
      "execution_count": 275,
      "outputs": [
        {
          "output_type": "execute_result",
          "data": {
            "text/plain": [
              "['질문이나 강의에 대한 건의등이 있으시면 편안하게 올려 주세요. 다음 강의등에 반영하겠습니다.',\n",
              " '눈물 날 정도로 감사합니다',\n",
              " '소고기 국수 먹으러 다니시던 분 아니신가?',\n",
              " '머신러닝 넘나 재밌는 것..',\n",
              " '정주행하겠습니다!!!',\n",
              " '감사합니다 센세 흑흑',\n",
              " '정주행 시작!',\n",
              " '사랑합니다 교수님 ^^',\n",
              " '머리속에 쏙쏙 들어오는 명강의!',\n",
              " '감사합니다 열심히 듣겠습니다.']"
            ]
          },
          "metadata": {
            "tags": []
          },
          "execution_count": 275
        }
      ]
    },
    {
      "cell_type": "markdown",
      "metadata": {
        "id": "amOMaaBheNl5"
      },
      "source": [
        "### 7. Corpus EDA\n",
        "\n",
        "- 사전 언어 모델을 학습하기전에, 학습시킬 Corpus에 대해 이해하는 것은 필수입니다.\n",
        "\n",
        "- 주어진 Corpus의 문장의 통계값\n",
        "\n",
        "- 가장 많이 나온 단어"
      ]
    },
    {
      "cell_type": "code",
      "metadata": {
        "id": "LtJl2Ei4eNl6"
      },
      "source": [
        "texts = myFunction(url, n=100)"
      ],
      "execution_count": 276,
      "outputs": []
    },
    {
      "cell_type": "code",
      "metadata": {
        "id": "KmVOM_NzeNl6"
      },
      "source": [
        "import numpy as np\n",
        "from collections import Counter"
      ],
      "execution_count": 277,
      "outputs": []
    },
    {
      "cell_type": "code",
      "metadata": {
        "id": "YYFTF7dveNl7"
      },
      "source": [
        "def myFunction (texts) : \n",
        "    \n",
        "    texts_len = []\n",
        "    \n",
        "    word_list = []\n",
        "    \n",
        "    # 문장의 길이를 저장 및 띄어쓰기 단위로 토큰화\n",
        "    for text in texts : \n",
        "        texts_len.append(len(text))\n",
        "      \n",
        "        # 띄어쓰기 토큰\n",
        "        for word in text.split() : \n",
        "            word_list.append(word)\n",
        "    \n",
        "    # 문장에 포함된 단어들 카운트\n",
        "    counter = Counter(word_list)\n",
        "    \n",
        "    # 가장 많이 나온 단어 10개\n",
        "    word_list = counter.most_common(n=10)\n",
        "\n",
        "    # 빈도는 지우고 단어만, 순서대로 저장\n",
        "    word_list = [word[0] for word in word_list]\n",
        "     \n",
        "    return {\"texts\" : len(texts),\n",
        "            \"maximum\" : np.max(texts_len), \"minumum\" : np.min(texts_len),\n",
        "            \"mean\" : np.mean(texts_len), \"median\" : np.median(texts_len), \"std\" : np.std(texts_len),\n",
        "            \"1Q\" : np.quantile(texts_len, 0.25), \"3Q\" : np.quantile(texts_len, 0.75),\n",
        "            \"TOP1_word\" : word_list[0], \"TOP10_word\":word_list[:10]}"
      ],
      "execution_count": 278,
      "outputs": []
    },
    {
      "cell_type": "code",
      "metadata": {
        "id": "O29qze9LeNl7",
        "colab": {
          "base_uri": "https://localhost:8080/"
        },
        "outputId": "fe9266f4-341b-455b-c610-94d3de24d277"
      },
      "source": [
        "myFunction(texts)"
      ],
      "execution_count": 279,
      "outputs": [
        {
          "output_type": "execute_result",
          "data": {
            "text/plain": [
              "{'1Q': 12.0,\n",
              " '3Q': 39.5,\n",
              " 'TOP10_word': ['좋은',\n",
              "  '감사합니다',\n",
              "  '감사합니다.',\n",
              "  '강의',\n",
              "  '정말',\n",
              "  '열심히',\n",
              "  '감사합니다!',\n",
              "  '강의를',\n",
              "  '이렇게',\n",
              "  '교수님'],\n",
              " 'TOP1_word': '좋은',\n",
              " 'maximum': 157,\n",
              " 'mean': 30.98,\n",
              " 'median': 20.0,\n",
              " 'minumum': 2,\n",
              " 'std': 29.044097507066734,\n",
              " 'texts': 100}"
            ]
          },
          "metadata": {
            "tags": []
          },
          "execution_count": 279
        }
      ]
    },
    {
      "cell_type": "code",
      "metadata": {
        "id": "h2QHriweax7p"
      },
      "source": [
        ""
      ],
      "execution_count": null,
      "outputs": []
    }
  ]
}