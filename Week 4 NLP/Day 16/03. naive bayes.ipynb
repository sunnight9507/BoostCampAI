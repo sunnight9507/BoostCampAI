{
 "cells": [
  {
   "cell_type": "markdown",
   "metadata": {
    "id": "btDmoiRCRfMp"
   },
   "source": [
    "## NaiveBayes Classifier\n",
    "1. 주어진 데이터를 전처리합니다.\n",
    "2. NaiveBayes 분류기 모델을 구현하고 학습 데이터로 이를 학습시킵니다.\n",
    "3. 간단한 test case로 결과를 확인합니다."
   ]
  },
  {
   "cell_type": "markdown",
   "metadata": {
    "id": "3a3E1pbkSYSF"
   },
   "source": [
    "### **필요 패키지 import**"
   ]
  },
  {
   "cell_type": "code",
   "execution_count": 1,
   "metadata": {
    "id": "2srhF-lp4JxL"
   },
   "outputs": [],
   "source": [
    "from tqdm import tqdm\n",
    "# 다양한 한국어 형태소 분석기가 클래스로 구현되어 있음\n",
    "from konlpy import tag \n",
    "from collections import defaultdict\n",
    "import math"
   ]
  },
  {
   "cell_type": "markdown",
   "metadata": {
    "id": "rpgjbzqr6UR4"
   },
   "source": [
    "### **학습 및 테스트 데이터 전처리**"
   ]
  },
  {
   "cell_type": "markdown",
   "metadata": {
    "id": "DTRXq_6G7wTk"
   },
   "source": [
    "Sample 데이터를 확인합니다.  \n",
    "긍정($1$), 부정($0$) 2가지 class로 구성되어 있습니다."
   ]
  },
  {
   "cell_type": "code",
   "execution_count": 2,
   "metadata": {
    "id": "MCBnEQrfoL_C"
   },
   "outputs": [],
   "source": [
    "train_data = [\n",
    "  \"정말 맛있습니다. 추천합니다.\",\n",
    "  \"기대했던 것보단 별로였네요.\",\n",
    "  \"다 좋은데 가격이 너무 비싸서 다시 가고 싶다는 생각이 안 드네요.\",\n",
    "  \"완전 최고입니다! 재방문 의사 있습니다.\",\n",
    "  \"음식도 서비스도 다 만족스러웠습니다.\",\n",
    "  \"위생 상태가 좀 별로였습니다. 좀 더 개선되기를 바랍니다.\",\n",
    "  \"맛도 좋았고 직원분들 서비스도 너무 친절했습니다.\",\n",
    "  \"기념일에 방문했는데 음식도 분위기도 서비스도 다 좋았습니다.\",\n",
    "  \"전반적으로 음식이 너무 짰습니다. 저는 별로였네요.\",\n",
    "  \"위생에 조금 더 신경 썼으면 좋겠습니다. 조금 불쾌했습니다.\"\n",
    "]\n",
    "train_labels = [1, 0, 0, 1, 1, 0, 1, 1, 0, 0]\n",
    "\n",
    "test_data = [\n",
    "  \"정말 좋았습니다. 또 가고 싶네요.\",\n",
    "  \"별로였습니다. 되도록 가지 마세요.\",\n",
    "  \"다른 분들께도 추천드릴 수 있을 만큼 만족했습니다.\",\n",
    "  \"서비스가 좀 더 개선되었으면 좋겠습니다. 기분이 좀 나빴습니다.\"\n",
    "]"
   ]
  },
  {
   "cell_type": "markdown",
   "metadata": {
    "id": "dQ7rMLICacVN"
   },
   "source": [
    "KoNLPy 패키지에서 제공하는 Twitter(Okt) tokenizer를 사용하여 tokenization합니다."
   ]
  },
  {
   "cell_type": "code",
   "execution_count": 8,
   "metadata": {
    "id": "bEzeYDmPjNLl"
   },
   "outputs": [],
   "source": [
    "tokenizer = tag.Okt()"
   ]
  },
  {
   "cell_type": "code",
   "execution_count": 9,
   "metadata": {
    "id": "Tftxirx_7sk7"
   },
   "outputs": [],
   "source": [
    "def make_tokenized(data):\n",
    "    tokenized = []  # 단어 단위로 나뉜 리뷰 데이터.\n",
    "\n",
    "    for sent in tqdm(data):\n",
    "        tokens = tokenizer.morphs(sent)\n",
    "        tokenized.append(tokens)\n",
    "\n",
    "    return tokenized"
   ]
  },
  {
   "cell_type": "code",
   "execution_count": 10,
   "metadata": {
    "colab": {
     "base_uri": "https://localhost:8080/"
    },
    "executionInfo": {
     "elapsed": 15354,
     "status": "ok",
     "timestamp": 1613362427033,
     "user": {
      "displayName": "롹이",
      "photoUrl": "https://lh3.googleusercontent.com/a-/AOh14GgR2En0YVwWc39vr_29gPprosJbt778DYO6LuYt=s64",
      "userId": "03180620763668130007"
     },
     "user_tz": -540
    },
    "id": "I4VEZyFlCqi-",
    "outputId": "79b829c2-20e9-4521-b541-af1c468f3930"
   },
   "outputs": [
    {
     "name": "stderr",
     "output_type": "stream",
     "text": [
      "100%|██████████████████████████████████████████████████████████████████████████████████| 10/10 [00:04<00:00,  2.11it/s]\n",
      "100%|███████████████████████████████████████████████████████████████████████████████████| 4/4 [00:00<00:00, 160.42it/s]\n"
     ]
    }
   ],
   "source": [
    "train_tokenized = make_tokenized(train_data)\n",
    "test_tokenized = make_tokenized(test_data)"
   ]
  },
  {
   "cell_type": "code",
   "execution_count": 11,
   "metadata": {
    "colab": {
     "base_uri": "https://localhost:8080/"
    },
    "executionInfo": {
     "elapsed": 15349,
     "status": "ok",
     "timestamp": 1613362427034,
     "user": {
      "displayName": "롹이",
      "photoUrl": "https://lh3.googleusercontent.com/a-/AOh14GgR2En0YVwWc39vr_29gPprosJbt778DYO6LuYt=s64",
      "userId": "03180620763668130007"
     },
     "user_tz": -540
    },
    "id": "OEhn3uv2o2kt",
    "outputId": "4953c431-e307-41f4-e54c-e1c9f175d828"
   },
   "outputs": [
    {
     "data": {
      "text/plain": [
       "[['정말', '맛있습니다', '.', '추천', '합니다', '.'],\n",
       " ['기대했던', '것', '보단', '별로', '였네요', '.'],\n",
       " ['다',\n",
       "  '좋은데',\n",
       "  '가격',\n",
       "  '이',\n",
       "  '너무',\n",
       "  '비싸서',\n",
       "  '다시',\n",
       "  '가고',\n",
       "  '싶다는',\n",
       "  '생각',\n",
       "  '이',\n",
       "  '안',\n",
       "  '드네',\n",
       "  '요',\n",
       "  '.'],\n",
       " ['완전', '최고', '입니다', '!', '재', '방문', '의사', '있습니다', '.'],\n",
       " ['음식', '도', '서비스', '도', '다', '만족스러웠습니다', '.'],\n",
       " ['위생',\n",
       "  '상태',\n",
       "  '가',\n",
       "  '좀',\n",
       "  '별로',\n",
       "  '였습니다',\n",
       "  '.',\n",
       "  '좀',\n",
       "  '더',\n",
       "  '개선',\n",
       "  '되',\n",
       "  '기를',\n",
       "  '바랍니다',\n",
       "  '.'],\n",
       " ['맛', '도', '좋았고', '직원', '분들', '서비스', '도', '너무', '친절했습니다', '.'],\n",
       " ['기념일',\n",
       "  '에',\n",
       "  '방문',\n",
       "  '했는데',\n",
       "  '음식',\n",
       "  '도',\n",
       "  '분위기',\n",
       "  '도',\n",
       "  '서비스',\n",
       "  '도',\n",
       "  '다',\n",
       "  '좋았습니다',\n",
       "  '.'],\n",
       " ['전반', '적', '으로', '음식', '이', '너무', '짰습니다', '.', '저', '는', '별로', '였네요', '.'],\n",
       " ['위생', '에', '조금', '더', '신경', '썼으면', '좋겠습니다', '.', '조금', '불쾌했습니다', '.']]"
      ]
     },
     "execution_count": 11,
     "metadata": {},
     "output_type": "execute_result"
    }
   ],
   "source": [
    "train_tokenized"
   ]
  },
  {
   "cell_type": "markdown",
   "metadata": {
    "id": "SVPd7lQjbfNO"
   },
   "source": [
    "학습데이터 기준으로 가장 많이 등장한 단어부터 순서대로 vocab에 추가합니다."
   ]
  },
  {
   "cell_type": "code",
   "execution_count": 12,
   "metadata": {
    "colab": {
     "base_uri": "https://localhost:8080/"
    },
    "executionInfo": {
     "elapsed": 15343,
     "status": "ok",
     "timestamp": 1613362427034,
     "user": {
      "displayName": "롹이",
      "photoUrl": "https://lh3.googleusercontent.com/a-/AOh14GgR2En0YVwWc39vr_29gPprosJbt778DYO6LuYt=s64",
      "userId": "03180620763668130007"
     },
     "user_tz": -540
    },
    "id": "w1S1egKgeJzM",
    "outputId": "4c6907b0-7e15-4b22-fc4c-1e0062165ce3"
   },
   "outputs": [
    {
     "name": "stderr",
     "output_type": "stream",
     "text": [
      "100%|██████████████████████████████████████████████████████████████████████████████████████████| 10/10 [00:00<?, ?it/s]\n"
     ]
    }
   ],
   "source": [
    "word_count = defaultdict(int)  # Key: 단어, Value: 등장 횟수\n",
    "\n",
    "for tokens in tqdm(train_tokenized):\n",
    "    for token in tokens:\n",
    "        word_count[token] += 1"
   ]
  },
  {
   "cell_type": "code",
   "execution_count": 13,
   "metadata": {
    "colab": {
     "base_uri": "https://localhost:8080/"
    },
    "executionInfo": {
     "elapsed": 15339,
     "status": "ok",
     "timestamp": 1613362427035,
     "user": {
      "displayName": "롹이",
      "photoUrl": "https://lh3.googleusercontent.com/a-/AOh14GgR2En0YVwWc39vr_29gPprosJbt778DYO6LuYt=s64",
      "userId": "03180620763668130007"
     },
     "user_tz": -540
    },
    "id": "I0LPetURIdxK",
    "outputId": "f8147db8-c8c6-4bed-cdd8-6f3842ac0f01"
   },
   "outputs": [
    {
     "name": "stdout",
     "output_type": "stream",
     "text": [
      "66\n"
     ]
    }
   ],
   "source": [
    "word_count = sorted(word_count.items(), key=lambda x: x[1], reverse=True)\n",
    "print(len(word_count))"
   ]
  },
  {
   "cell_type": "code",
   "execution_count": 23,
   "metadata": {},
   "outputs": [
    {
     "name": "stderr",
     "output_type": "stream",
     "text": [
      "66it [00:00, ?it/s]\n"
     ]
    }
   ],
   "source": [
    "w2i = {}\n",
    "for idx, pair in tqdm(enumerate(word_count)):\n",
    "    w2i[pair[0]] = idx"
   ]
  },
  {
   "cell_type": "code",
   "execution_count": 28,
   "metadata": {
    "id": "cG3kuKkNKj0Z"
   },
   "outputs": [
    {
     "data": {
      "text/plain": [
       "66"
      ]
     },
     "execution_count": 28,
     "metadata": {},
     "output_type": "execute_result"
    }
   ],
   "source": [
    "len(w2i)"
   ]
  },
  {
   "cell_type": "markdown",
   "metadata": {
    "id": "85oCOe0Xqcwk"
   },
   "source": [
    "### **모델 Class 구현**"
   ]
  },
  {
   "cell_type": "markdown",
   "metadata": {
    "id": "w3uuFi52qjh6"
   },
   "source": [
    "NaiveBayes Classifier 모델 클래스를 구현합니다.\n",
    "\n",
    "*   `self.k`: Smoothing을 위한 상수.\n",
    "*   `self.w2i`: 사전에 구한 vocab.\n",
    "*   `self.priors`: 각 class의 prior 확률.\n",
    "*   `self.likelihoods`: 각 token의 특정 class 조건 내에서의 likelihood.\n"
   ]
  },
  {
   "cell_type": "code",
   "execution_count": 33,
   "metadata": {
    "id": "TsZlgjkBHAod"
   },
   "outputs": [],
   "source": [
    "class NaiveBayesClassifier():\n",
    "    def __init__(self, w2i, k=0.1):\n",
    "        self.k = k\n",
    "        self.w2i = w2i\n",
    "        self.priors = {}\n",
    "        self.likelihoods = {}\n",
    "\n",
    "    def train(self, train_tokenized, train_labels):\n",
    "        self.set_priors(train_labels)  # Priors 계산.\n",
    "        self.set_likelihoods(train_tokenized, train_labels)  # Likelihoods 계산.\n",
    "\n",
    "    def inference(self, tokens):\n",
    "        log_prob0 = 0.0\n",
    "        log_prob1 = 0.0\n",
    "\n",
    "        for token in tokens:\n",
    "            if token in self.likelihoods:  # 학습 당시 추가했던 단어에 대해서만 고려.\n",
    "                log_prob0 += math.log(self.likelihoods[token][0])\n",
    "                log_prob1 += math.log(self.likelihoods[token][1])\n",
    "\n",
    "        # 마지막에 prior를 고려.\n",
    "        log_prob0 += math.log(self.priors[0])\n",
    "        log_prob1 += math.log(self.priors[1])\n",
    "\n",
    "        if log_prob0 >= log_prob1:\n",
    "            return 0\n",
    "        else:\n",
    "            return 1\n",
    "\n",
    "    def set_priors(self, train_labels):\n",
    "        class_counts = defaultdict(int)\n",
    "        for label in tqdm(train_labels):\n",
    "            class_counts[label] += 1\n",
    "    \n",
    "        for label, count in class_counts.items():\n",
    "            self.priors[label] = class_counts[label] / len(train_labels)\n",
    "\n",
    "    def set_likelihoods(self, train_tokenized, train_labels):\n",
    "        token_dists = {}  # 각 단어의 특정 class 조건 하에서의 등장 횟수.\n",
    "        class_counts = defaultdict(int)  # 특정 class에서 등장한 모든 단어의 등장 횟수.\n",
    "\n",
    "        for i, label in enumerate(tqdm(train_labels)):\n",
    "            count = 0\n",
    "            for token in train_tokenized[i]:\n",
    "                if token in self.w2i:  # 학습 데이터로 구축한 vocab에 있는 token만 고려.\n",
    "                    if token not in token_dists:\n",
    "                        token_dists[token] = {0:0, 1:0}\n",
    "                    token_dists[token][label] += 1\n",
    "                    count += 1\n",
    "            class_counts[label] += count\n",
    "\n",
    "        for token, dist in tqdm(token_dists.items()):\n",
    "            if token not in self.likelihoods:\n",
    "                self.likelihoods[token] = {\n",
    "                    0:(token_dists[token][0] + self.k) / (class_counts[0] + len(self.w2i)*self.k),\n",
    "                    1:(token_dists[token][1] + self.k) / (class_counts[1] + len(self.w2i)*self.k),\n",
    "                }"
   ]
  },
  {
   "cell_type": "markdown",
   "metadata": {
    "id": "xzjVUyBOQEJk"
   },
   "source": [
    "### **모델 학습**"
   ]
  },
  {
   "cell_type": "markdown",
   "metadata": {
    "id": "HuE3mFM46VBP"
   },
   "source": [
    "모델 객체를 만들고 학습 데이터로 학습시킵니다."
   ]
  },
  {
   "cell_type": "code",
   "execution_count": 34,
   "metadata": {
    "id": "Wt-iUEVRNsRj"
   },
   "outputs": [
    {
     "name": "stderr",
     "output_type": "stream",
     "text": [
      "100%|██████████████████████████████████████████████████████████████████████████████████████████| 10/10 [00:00<?, ?it/s]\n",
      "100%|██████████████████████████████████████████████████████████████████████████████████████████| 10/10 [00:00<?, ?it/s]\n",
      "100%|██████████████████████████████████████████████████████████████████████████████████████████| 66/66 [00:00<?, ?it/s]\n"
     ]
    }
   ],
   "source": [
    "classifier = NaiveBayesClassifier(w2i)\n",
    "classifier.train(train_tokenized, train_labels)"
   ]
  },
  {
   "cell_type": "markdown",
   "metadata": {
    "id": "h79XWrsnQJtN"
   },
   "source": [
    "### **테스트**"
   ]
  },
  {
   "cell_type": "markdown",
   "metadata": {
    "id": "Pjk05W136d5o"
   },
   "source": [
    "Test sample에 대한 결과는 다음과 같습니다."
   ]
  },
  {
   "cell_type": "code",
   "execution_count": 35,
   "metadata": {
    "id": "Fe-fOScGNzH3"
   },
   "outputs": [
    {
     "name": "stderr",
     "output_type": "stream",
     "text": [
      "100%|████████████████████████████████████████████████████████████████████████████████████████████| 4/4 [00:00<?, ?it/s]\n"
     ]
    }
   ],
   "source": [
    "preds = []\n",
    "for test_tokens in tqdm(test_tokenized):\n",
    "    pred = classifier.inference(test_tokens)\n",
    "    preds.append(pred)"
   ]
  },
  {
   "cell_type": "code",
   "execution_count": 36,
   "metadata": {
    "id": "hrYMTKM10vYk"
   },
   "outputs": [
    {
     "data": {
      "text/plain": [
       "[1, 0, 1, 0]"
      ]
     },
     "execution_count": 36,
     "metadata": {},
     "output_type": "execute_result"
    }
   ],
   "source": [
    "preds"
   ]
  }
 ],
 "metadata": {
  "accelerator": "GPU",
  "colab": {
   "collapsed_sections": [],
   "name": "1_naive_bayes.ipynb",
   "provenance": []
  },
  "kernelspec": {
   "display_name": "Python 3",
   "language": "python",
   "name": "python3"
  },
  "language_info": {
   "codemirror_mode": {
    "name": "ipython",
    "version": 3
   },
   "file_extension": ".py",
   "mimetype": "text/x-python",
   "name": "python",
   "nbconvert_exporter": "python",
   "pygments_lexer": "ipython3",
   "version": "3.8.5"
  }
 },
 "nbformat": 4,
 "nbformat_minor": 1
}
