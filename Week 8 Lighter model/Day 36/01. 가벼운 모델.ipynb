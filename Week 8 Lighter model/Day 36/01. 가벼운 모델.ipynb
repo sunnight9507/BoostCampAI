{
 "cells": [
  {
   "cell_type": "markdown",
   "id": "broken-giant",
   "metadata": {},
   "source": [
    "### 1. 결정 (Decision making)\n",
    "\n",
    "> - 연역적 (deductive) 결정\n",
    "> - 귀납적 (inductive) 결정\n",
    "\n",
    "### 2. 결정기 (Decision making machine)\n",
    "\n",
    "> - 결정기\n",
    "    - 분류기\n",
    "> - 인간 세상의 의사 결정\n",
    "    - 결정기가 결정할 수 없는 것이 있다. (도덕)\n",
    "    \n",
    "### 3. 가벼운 결정기 (Lightweight decision making machine)\n",
    "\n",
    "> - 경량화 (Lightweight)\n",
    "    - 필요한 것들은 가지고 있되, 덜 필요한 부분을 줄이는 것\n",
    "> - TinyML\n",
    "\n",
    "### 4. Backbone & dataset for model compression\n",
    "\n",
    "### 5. Edge devices\n",
    "\n",
    "> - Cloud\n",
    "    - High cost / Privacy concerns / Network connectivity (delay) issues\n",
    "> - Edge device\n",
    "    - Low cost / No privacy concerns / Stand-alone\n",
    "    - Dumb and fast\n",
    "    \n",
    "### 6. Edge intelligence\n",
    "\n",
    "> - Edge intelligence\n",
    "    - Edge Training\n",
    "    - Edge Inference\n",
    "    - Edge Caching\n",
    "    - Edge Offloading"
   ]
  }
 ],
 "metadata": {
  "kernelspec": {
   "display_name": "Python 3",
   "language": "python",
   "name": "python3"
  },
  "language_info": {
   "codemirror_mode": {
    "name": "ipython",
    "version": 3
   },
   "file_extension": ".py",
   "mimetype": "text/x-python",
   "name": "python",
   "nbconvert_exporter": "python",
   "pygments_lexer": "ipython3",
   "version": "3.8.5"
  }
 },
 "nbformat": 4,
 "nbformat_minor": 5
}
